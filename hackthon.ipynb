{
  "cells": [
    {
      "cell_type": "code",
      "execution_count": null,
      "metadata": {
        "colab": {
          "base_uri": "https://localhost:8080/",
          "height": 110,
          "resources": {
            "http://localhost:8080/nbextensions/google.colab/files.js": {
              "data": "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",
              "headers": [
                [
                  "content-type",
                  "application/javascript"
                ]
              ],
              "ok": true,
              "status": 200,
              "status_text": "OK"
            }
          }
        },
        "id": "5pld66Lu6BAg",
        "outputId": "5b5307ba-4288-4f26-9cba-8d98825a832c"
      },
      "outputs": [
        {
          "output_type": "display_data",
          "data": {
            "text/plain": [
              "<IPython.core.display.HTML object>"
            ],
            "text/html": [
              "\n",
              "     <input type=\"file\" id=\"files-88a9bb54-16b3-4959-8324-859bbc1d7572\" name=\"files[]\" multiple disabled\n",
              "        style=\"border:none\" />\n",
              "     <output id=\"result-88a9bb54-16b3-4959-8324-859bbc1d7572\">\n",
              "      Upload widget is only available when the cell has been executed in the\n",
              "      current browser session. Please rerun this cell to enable.\n",
              "      </output>\n",
              "      <script src=\"/nbextensions/google.colab/files.js\"></script> "
            ]
          },
          "metadata": {}
        },
        {
          "output_type": "stream",
          "name": "stdout",
          "text": [
            "Saving test.csv to test.csv\n",
            "Saving train.csv to train (2).csv\n"
          ]
        }
      ],
      "source": [
        "import numpy as np\n",
        "import pandas as pd\n",
        "import matplotlib.pyplot as plt\n",
        "import seaborn as sns\n",
        "import warnings\n",
        "warnings.filterwarnings('ignore')\n",
        "from google.colab import files\n",
        "data = files.upload()"
      ]
    },
    {
      "cell_type": "code",
      "execution_count": null,
      "metadata": {
        "colab": {
          "base_uri": "https://localhost:8080/",
          "height": 392
        },
        "id": "D2AgdyX8AREU",
        "outputId": "53ba99a8-50c5-48df-f76a-96294bc05fe1"
      },
      "outputs": [
        {
          "output_type": "execute_result",
          "data": {
            "text/plain": [
              "  Property_ID   Property_Type  Property_Area  Number_of_Windows  \\\n",
              "0      0x6e93       Apartment            293                3.0   \n",
              "1      0x8787       Apartment            586                4.0   \n",
              "2      0x6c17  Container Home            305                1.0   \n",
              "3      0x9dbd       Apartment            258                2.0   \n",
              "4      0xbfde        Bungalow           3031               12.0   \n",
              "\n",
              "   Number_of_Doors       Furnishing  Frequency_of_Powercuts Power_Backup  \\\n",
              "0                1      Unfurnished                     0.0           No   \n",
              "1                1   Semi_Furnished                     0.0           No   \n",
              "2                2   Semi_Furnished                     1.0           No   \n",
              "3                1   Semi_Furnished                     1.0           No   \n",
              "4                4  Fully Furnished                     0.0           No   \n",
              "\n",
              "              Water_Supply  Traffic_Density_Score              Crime_Rate  \\\n",
              "0  Once in a day - Morning                   7.28      Well above average   \n",
              "1  Once in a day - Evening                   7.63      Well below average   \n",
              "2                 All time                   5.39  Slightly above average   \n",
              "3                 All time                   7.53  Slightly below average   \n",
              "4                 All time                   8.79      Well above average   \n",
              "\n",
              "  Dust_and_Noise  Air_Quality_Index  Neighborhood_Review  \n",
              "0         Medium              152.0                 2.52  \n",
              "1         Medium               92.0                 4.16  \n",
              "2         Medium               90.0                 2.92  \n",
              "3         Medium              158.0                 3.45  \n",
              "4           High              186.0                 2.72  "
            ],
            "text/html": [
              "\n",
              "  <div id=\"df-5c06b95a-efa4-4e8f-a6f5-8f312b7ad889\">\n",
              "    <div class=\"colab-df-container\">\n",
              "      <div>\n",
              "<style scoped>\n",
              "    .dataframe tbody tr th:only-of-type {\n",
              "        vertical-align: middle;\n",
              "    }\n",
              "\n",
              "    .dataframe tbody tr th {\n",
              "        vertical-align: top;\n",
              "    }\n",
              "\n",
              "    .dataframe thead th {\n",
              "        text-align: right;\n",
              "    }\n",
              "</style>\n",
              "<table border=\"1\" class=\"dataframe\">\n",
              "  <thead>\n",
              "    <tr style=\"text-align: right;\">\n",
              "      <th></th>\n",
              "      <th>Property_ID</th>\n",
              "      <th>Property_Type</th>\n",
              "      <th>Property_Area</th>\n",
              "      <th>Number_of_Windows</th>\n",
              "      <th>Number_of_Doors</th>\n",
              "      <th>Furnishing</th>\n",
              "      <th>Frequency_of_Powercuts</th>\n",
              "      <th>Power_Backup</th>\n",
              "      <th>Water_Supply</th>\n",
              "      <th>Traffic_Density_Score</th>\n",
              "      <th>Crime_Rate</th>\n",
              "      <th>Dust_and_Noise</th>\n",
              "      <th>Air_Quality_Index</th>\n",
              "      <th>Neighborhood_Review</th>\n",
              "    </tr>\n",
              "  </thead>\n",
              "  <tbody>\n",
              "    <tr>\n",
              "      <th>0</th>\n",
              "      <td>0x6e93</td>\n",
              "      <td>Apartment</td>\n",
              "      <td>293</td>\n",
              "      <td>3.0</td>\n",
              "      <td>1</td>\n",
              "      <td>Unfurnished</td>\n",
              "      <td>0.0</td>\n",
              "      <td>No</td>\n",
              "      <td>Once in a day - Morning</td>\n",
              "      <td>7.28</td>\n",
              "      <td>Well above average</td>\n",
              "      <td>Medium</td>\n",
              "      <td>152.0</td>\n",
              "      <td>2.52</td>\n",
              "    </tr>\n",
              "    <tr>\n",
              "      <th>1</th>\n",
              "      <td>0x8787</td>\n",
              "      <td>Apartment</td>\n",
              "      <td>586</td>\n",
              "      <td>4.0</td>\n",
              "      <td>1</td>\n",
              "      <td>Semi_Furnished</td>\n",
              "      <td>0.0</td>\n",
              "      <td>No</td>\n",
              "      <td>Once in a day - Evening</td>\n",
              "      <td>7.63</td>\n",
              "      <td>Well below average</td>\n",
              "      <td>Medium</td>\n",
              "      <td>92.0</td>\n",
              "      <td>4.16</td>\n",
              "    </tr>\n",
              "    <tr>\n",
              "      <th>2</th>\n",
              "      <td>0x6c17</td>\n",
              "      <td>Container Home</td>\n",
              "      <td>305</td>\n",
              "      <td>1.0</td>\n",
              "      <td>2</td>\n",
              "      <td>Semi_Furnished</td>\n",
              "      <td>1.0</td>\n",
              "      <td>No</td>\n",
              "      <td>All time</td>\n",
              "      <td>5.39</td>\n",
              "      <td>Slightly above average</td>\n",
              "      <td>Medium</td>\n",
              "      <td>90.0</td>\n",
              "      <td>2.92</td>\n",
              "    </tr>\n",
              "    <tr>\n",
              "      <th>3</th>\n",
              "      <td>0x9dbd</td>\n",
              "      <td>Apartment</td>\n",
              "      <td>258</td>\n",
              "      <td>2.0</td>\n",
              "      <td>1</td>\n",
              "      <td>Semi_Furnished</td>\n",
              "      <td>1.0</td>\n",
              "      <td>No</td>\n",
              "      <td>All time</td>\n",
              "      <td>7.53</td>\n",
              "      <td>Slightly below average</td>\n",
              "      <td>Medium</td>\n",
              "      <td>158.0</td>\n",
              "      <td>3.45</td>\n",
              "    </tr>\n",
              "    <tr>\n",
              "      <th>4</th>\n",
              "      <td>0xbfde</td>\n",
              "      <td>Bungalow</td>\n",
              "      <td>3031</td>\n",
              "      <td>12.0</td>\n",
              "      <td>4</td>\n",
              "      <td>Fully Furnished</td>\n",
              "      <td>0.0</td>\n",
              "      <td>No</td>\n",
              "      <td>All time</td>\n",
              "      <td>8.79</td>\n",
              "      <td>Well above average</td>\n",
              "      <td>High</td>\n",
              "      <td>186.0</td>\n",
              "      <td>2.72</td>\n",
              "    </tr>\n",
              "  </tbody>\n",
              "</table>\n",
              "</div>\n",
              "      <button class=\"colab-df-convert\" onclick=\"convertToInteractive('df-5c06b95a-efa4-4e8f-a6f5-8f312b7ad889')\"\n",
              "              title=\"Convert this dataframe to an interactive table.\"\n",
              "              style=\"display:none;\">\n",
              "        \n",
              "  <svg xmlns=\"http://www.w3.org/2000/svg\" height=\"24px\"viewBox=\"0 0 24 24\"\n",
              "       width=\"24px\">\n",
              "    <path d=\"M0 0h24v24H0V0z\" fill=\"none\"/>\n",
              "    <path d=\"M18.56 5.44l.94 2.06.94-2.06 2.06-.94-2.06-.94-.94-2.06-.94 2.06-2.06.94zm-11 1L8.5 8.5l.94-2.06 2.06-.94-2.06-.94L8.5 2.5l-.94 2.06-2.06.94zm10 10l.94 2.06.94-2.06 2.06-.94-2.06-.94-.94-2.06-.94 2.06-2.06.94z\"/><path d=\"M17.41 7.96l-1.37-1.37c-.4-.4-.92-.59-1.43-.59-.52 0-1.04.2-1.43.59L10.3 9.45l-7.72 7.72c-.78.78-.78 2.05 0 2.83L4 21.41c.39.39.9.59 1.41.59.51 0 1.02-.2 1.41-.59l7.78-7.78 2.81-2.81c.8-.78.8-2.07 0-2.86zM5.41 20L4 18.59l7.72-7.72 1.47 1.35L5.41 20z\"/>\n",
              "  </svg>\n",
              "      </button>\n",
              "      \n",
              "  <style>\n",
              "    .colab-df-container {\n",
              "      display:flex;\n",
              "      flex-wrap:wrap;\n",
              "      gap: 12px;\n",
              "    }\n",
              "\n",
              "    .colab-df-convert {\n",
              "      background-color: #E8F0FE;\n",
              "      border: none;\n",
              "      border-radius: 50%;\n",
              "      cursor: pointer;\n",
              "      display: none;\n",
              "      fill: #1967D2;\n",
              "      height: 32px;\n",
              "      padding: 0 0 0 0;\n",
              "      width: 32px;\n",
              "    }\n",
              "\n",
              "    .colab-df-convert:hover {\n",
              "      background-color: #E2EBFA;\n",
              "      box-shadow: 0px 1px 2px rgba(60, 64, 67, 0.3), 0px 1px 3px 1px rgba(60, 64, 67, 0.15);\n",
              "      fill: #174EA6;\n",
              "    }\n",
              "\n",
              "    [theme=dark] .colab-df-convert {\n",
              "      background-color: #3B4455;\n",
              "      fill: #D2E3FC;\n",
              "    }\n",
              "\n",
              "    [theme=dark] .colab-df-convert:hover {\n",
              "      background-color: #434B5C;\n",
              "      box-shadow: 0px 1px 3px 1px rgba(0, 0, 0, 0.15);\n",
              "      filter: drop-shadow(0px 1px 2px rgba(0, 0, 0, 0.3));\n",
              "      fill: #FFFFFF;\n",
              "    }\n",
              "  </style>\n",
              "\n",
              "      <script>\n",
              "        const buttonEl =\n",
              "          document.querySelector('#df-5c06b95a-efa4-4e8f-a6f5-8f312b7ad889 button.colab-df-convert');\n",
              "        buttonEl.style.display =\n",
              "          google.colab.kernel.accessAllowed ? 'block' : 'none';\n",
              "\n",
              "        async function convertToInteractive(key) {\n",
              "          const element = document.querySelector('#df-5c06b95a-efa4-4e8f-a6f5-8f312b7ad889');\n",
              "          const dataTable =\n",
              "            await google.colab.kernel.invokeFunction('convertToInteractive',\n",
              "                                                     [key], {});\n",
              "          if (!dataTable) return;\n",
              "\n",
              "          const docLinkHtml = 'Like what you see? Visit the ' +\n",
              "            '<a target=\"_blank\" href=https://colab.research.google.com/notebooks/data_table.ipynb>data table notebook</a>'\n",
              "            + ' to learn more about interactive tables.';\n",
              "          element.innerHTML = '';\n",
              "          dataTable['output_type'] = 'display_data';\n",
              "          await google.colab.output.renderOutput(dataTable, element);\n",
              "          const docLink = document.createElement('div');\n",
              "          docLink.innerHTML = docLinkHtml;\n",
              "          element.appendChild(docLink);\n",
              "        }\n",
              "      </script>\n",
              "    </div>\n",
              "  </div>\n",
              "  "
            ]
          },
          "metadata": {},
          "execution_count": 284
        }
      ],
      "source": [
        "df = pd.read_csv('train.csv')\n",
        "test = pd.read_csv('test.csv')\n",
        "df.head()\n",
        "test.head()"
      ]
    },
    {
      "cell_type": "code",
      "execution_count": null,
      "metadata": {
        "colab": {
          "base_uri": "https://localhost:8080/"
        },
        "id": "tcc2_CSfBsye",
        "outputId": "7db87eae-7aba-407b-a817-f301ae936960"
      },
      "outputs": [
        {
          "output_type": "execute_result",
          "data": {
            "text/plain": [
              "Property_ID                  0\n",
              "Property_Type                0\n",
              "Property_Area                0\n",
              "Number_of_Windows         1654\n",
              "Number_of_Doors              0\n",
              "Furnishing                1042\n",
              "Frequency_of_Powercuts    1383\n",
              "Power_Backup                 0\n",
              "Water_Supply                 0\n",
              "Traffic_Density_Score        0\n",
              "Crime_Rate                 787\n",
              "Dust_and_Noise            1219\n",
              "Air_Quality_Index            0\n",
              "Neighborhood_Review          0\n",
              "Habitability_score           0\n",
              "dtype: int64"
            ]
          },
          "metadata": {},
          "execution_count": 190
        }
      ],
      "source": [
        "df.isnull().sum()"
      ]
    },
    {
      "cell_type": "code",
      "execution_count": null,
      "metadata": {
        "colab": {
          "base_uri": "https://localhost:8080/"
        },
        "id": "kaaHAzuCB2su",
        "outputId": "3295a6e0-afe4-4fd5-f1e2-40c45bdaf8d4"
      },
      "outputs": [
        {
          "output_type": "execute_result",
          "data": {
            "text/plain": [
              "0"
            ]
          },
          "metadata": {},
          "execution_count": 191
        }
      ],
      "source": [
        "df.duplicated().sum()"
      ]
    },
    {
      "cell_type": "code",
      "execution_count": null,
      "metadata": {
        "colab": {
          "base_uri": "https://localhost:8080/"
        },
        "id": "6QwyPZGEDvaO",
        "outputId": "7f35cac3-fe21-4a8f-c2a2-9576972a3e72"
      },
      "outputs": [
        {
          "output_type": "stream",
          "name": "stdout",
          "text": [
            "<class 'pandas.core.frame.DataFrame'>\n",
            "RangeIndex: 39499 entries, 0 to 39498\n",
            "Data columns (total 15 columns):\n",
            " #   Column                  Non-Null Count  Dtype  \n",
            "---  ------                  --------------  -----  \n",
            " 0   Property_ID             39499 non-null  object \n",
            " 1   Property_Type           39499 non-null  object \n",
            " 2   Property_Area           39499 non-null  int64  \n",
            " 3   Number_of_Windows       37845 non-null  float64\n",
            " 4   Number_of_Doors         39499 non-null  int64  \n",
            " 5   Furnishing              38457 non-null  object \n",
            " 6   Frequency_of_Powercuts  38116 non-null  float64\n",
            " 7   Power_Backup            39499 non-null  object \n",
            " 8   Water_Supply            39499 non-null  object \n",
            " 9   Traffic_Density_Score   39499 non-null  float64\n",
            " 10  Crime_Rate              38712 non-null  object \n",
            " 11  Dust_and_Noise          38280 non-null  object \n",
            " 12  Air_Quality_Index       39499 non-null  float64\n",
            " 13  Neighborhood_Review     39499 non-null  float64\n",
            " 14  Habitability_score      39499 non-null  float64\n",
            "dtypes: float64(6), int64(2), object(7)\n",
            "memory usage: 4.5+ MB\n"
          ]
        }
      ],
      "source": [
        "df.info()"
      ]
    },
    {
      "cell_type": "code",
      "execution_count": null,
      "metadata": {
        "colab": {
          "base_uri": "https://localhost:8080/",
          "height": 369
        },
        "id": "z8Q4AfN2EpUf",
        "outputId": "fc205afd-ab33-4694-faf9-79e056f3077f"
      },
      "outputs": [
        {
          "output_type": "execute_result",
          "data": {
            "text/plain": [
              "<matplotlib.axes._subplots.AxesSubplot at 0x7f4ae2ee2b90>"
            ]
          },
          "metadata": {},
          "execution_count": 193
        },
        {
          "output_type": "display_data",
          "data": {
            "text/plain": [
              "<Figure size 432x288 with 1 Axes>"
            ],
            "image/png": "[encoded data removed]"
          },
          "metadata": {}
        }
      ],
      "source": [
        "df['Property_Type'].value_counts().plot(kind='bar')"
      ]
    },
    {
      "cell_type": "code",
      "execution_count": null,
      "metadata": {
        "colab": {
          "base_uri": "https://localhost:8080/",
          "height": 351
        },
        "id": "h50l3R4tIjwT",
        "outputId": "6fbe90db-0972-48e3-b4e1-f9dca21d476c"
      },
      "outputs": [
        {
          "output_type": "execute_result",
          "data": {
            "text/plain": [
              "<matplotlib.axes._subplots.AxesSubplot at 0x7f4ae2cc1590>"
            ]
          },
          "metadata": {},
          "execution_count": 194
        },
        {
          "output_type": "display_data",
          "data": {
            "text/plain": [
              "<Figure size 432x288 with 1 Axes>"
            ],
            "image/png": "[encoded data removed]"
          },
          "metadata": {}
        }
      ],
      "source": [
        "df['Furnishing'].value_counts().plot(kind='bar')"
      ]
    },
    {
      "cell_type": "code",
      "execution_count": null,
      "metadata": {
        "colab": {
          "base_uri": "https://localhost:8080/"
        },
        "id": "8-R6kUY7Mm3Q",
        "outputId": "35859df1-6fbd-4489-c3dc-db8e0959b13c"
      },
      "outputs": [
        {
          "output_type": "execute_result",
          "data": {
            "text/plain": [
              "0.0    24471\n",
              "1.0    10010\n",
              "2.0     2441\n",
              "3.0     1194\n",
              "Name: Frequency_of_Powercuts, dtype: int64"
            ]
          },
          "metadata": {},
          "execution_count": 195
        }
      ],
      "source": [
        "df['Frequency_of_Powercuts'].value_counts()"
      ]
    },
    {
      "cell_type": "code",
      "execution_count": null,
      "metadata": {
        "colab": {
          "base_uri": "https://localhost:8080/",
          "height": 357
        },
        "id": "pE1Tnv4ONUFa",
        "outputId": "444580a7-e467-4dd0-d7d9-acbc360fbc1d"
      },
      "outputs": [
        {
          "output_type": "execute_result",
          "data": {
            "text/plain": [
              "<matplotlib.axes._subplots.AxesSubplot at 0x7f4bdc184090>"
            ]
          },
          "metadata": {},
          "execution_count": 196
        },
        {
          "output_type": "display_data",
          "data": {
            "text/plain": [
              "<Figure size 432x288 with 1 Axes>"
            ],
            "image/png": "[encoded data removed]"
          },
          "metadata": {}
        }
      ],
      "source": [
        "df['Power_Backup'].value_counts().plot(kind='bar')"
      ]
    },
    {
      "cell_type": "code",
      "execution_count": null,
      "metadata": {
        "colab": {
          "base_uri": "https://localhost:8080/"
        },
        "id": "JO7uzrdSPUEi",
        "outputId": "d2b7e0fd-2d00-48d6-a08e-6578e615a6d2"
      },
      "outputs": [
        {
          "output_type": "execute_result",
          "data": {
            "text/plain": [
              "array(['Once in a day - Morning', 'Once in a day - Evening', 'All time',\n",
              "       'NOT MENTIONED', 'Once in two days'], dtype=object)"
            ]
          },
          "metadata": {},
          "execution_count": 197
        }
      ],
      "source": [
        "df.Water_Supply.unique()"
      ]
    },
    {
      "cell_type": "code",
      "execution_count": null,
      "metadata": {
        "id": "I-SDcHQcTgBe"
      },
      "outputs": [],
      "source": [
        "def Water_supply(inp):\n",
        "  if inp == 'Once in a day - Morning':\n",
        "    return 'Morning'\n",
        "  elif inp == 'Once in a day - Evening':\n",
        "    return 'Evening'\n",
        "  elif inp == 'All time':\n",
        "    return 'Avialable'\n",
        "  elif inp == 'Once in two days':\n",
        "    return 'Two'\n",
        "  elif inp == 'NOT MENTIONED':\n",
        "    return 'NA'\n",
        "  else :\n",
        "    return 0"
      ]
    },
    {
      "cell_type": "code",
      "execution_count": null,
      "metadata": {
        "id": "qTpnc8JHGUd6"
      },
      "outputs": [],
      "source": [
        "df['Water_Supply']=df['Water_Supply'].apply(Water_supply)"
      ]
    },
    {
      "cell_type": "code",
      "execution_count": null,
      "metadata": {
        "colab": {
          "base_uri": "https://localhost:8080/",
          "height": 318
        },
        "id": "JVT7vJxPIchW",
        "outputId": "1cc49616-a2e9-4f20-c600-9b6a6954184e"
      },
      "outputs": [
        {
          "output_type": "execute_result",
          "data": {
            "text/plain": [
              "<matplotlib.axes._subplots.AxesSubplot at 0x7f4bdc25e490>"
            ]
          },
          "metadata": {},
          "execution_count": 200
        },
        {
          "output_type": "display_data",
          "data": {
            "text/plain": [
              "<Figure size 432x288 with 1 Axes>"
            ],
            "image/png": "[encoded data removed]"
          },
          "metadata": {}
        }
      ],
      "source": [
        "df['Water_Supply'].value_counts().plot(kind='bar')"
      ]
    },
    {
      "cell_type": "code",
      "execution_count": null,
      "metadata": {
        "colab": {
          "base_uri": "https://localhost:8080/"
        },
        "id": "evquaNMyLfuF",
        "outputId": "7eee6e36-e348-4950-c2dd-a34739bb7f3d"
      },
      "outputs": [
        {
          "output_type": "stream",
          "name": "stdout",
          "text": [
            "\n",
            " maximum value for traffic density score 9.91\n",
            " \n",
            " minimum value for traffic density score 0.0 \n"
          ]
        }
      ],
      "source": [
        "print(f\"\\n maximum value for traffic density score {df['Traffic_Density_Score'].max()}\")\n",
        "print(f\" \\n minimum value for traffic density score {df['Traffic_Density_Score'].min()} \")"
      ]
    },
    {
      "cell_type": "code",
      "execution_count": null,
      "metadata": {
        "colab": {
          "base_uri": "https://localhost:8080/",
          "height": 389
        },
        "id": "V3ub_WnDPEMJ",
        "outputId": "03d1db0f-bade-44ec-b3c9-dd147b2343a2"
      },
      "outputs": [
        {
          "output_type": "display_data",
          "data": {
            "text/plain": [
              "<Figure size 864x432 with 1 Axes>"
            ],
            "image/png": "[encoded data removed]"
          },
          "metadata": {}
        }
      ],
      "source": [
        "f,ax = plt.subplots(figsize=(12,6))\n",
        "ax=sns.distplot(df.Traffic_Density_Score,bins=5, kde=True , hist_kws={'edgecolor':'black'},color='red')"
      ]
    },
    {
      "cell_type": "code",
      "execution_count": null,
      "metadata": {
        "colab": {
          "base_uri": "https://localhost:8080/",
          "height": 389
        },
        "id": "NBQgO4A0TN6b",
        "outputId": "53e759a6-fb64-4b77-e5cd-2a2de6ff8eed"
      },
      "outputs": [
        {
          "output_type": "display_data",
          "data": {
            "text/plain": [
              "<Figure size 864x432 with 1 Axes>"
            ],
            "image/png": "[encoded data removed]"
          },
          "metadata": {}
        }
      ],
      "source": [
        "f,ax = plt.subplots(figsize=(12,6))\n",
        "sns.set_style('whitegrid')\n",
        "ax = sns.boxplot(x=df.Traffic_Density_Score , y=df.Property_Type, data=df)"
      ]
    },
    {
      "cell_type": "code",
      "execution_count": null,
      "metadata": {
        "colab": {
          "base_uri": "https://localhost:8080/",
          "height": 387
        },
        "id": "mzNyfN3YXUpV",
        "outputId": "981ab55c-8ebb-43f1-a675-a6dd858d9d8f"
      },
      "outputs": [
        {
          "output_type": "execute_result",
          "data": {
            "text/plain": [
              "<matplotlib.axes._subplots.AxesSubplot at 0x7f4b95262a50>"
            ]
          },
          "metadata": {},
          "execution_count": 204
        },
        {
          "output_type": "display_data",
          "data": {
            "text/plain": [
              "<Figure size 432x288 with 1 Axes>"
            ],
            "image/png": "[encoded data removed]"
          },
          "metadata": {}
        }
      ],
      "source": [
        "df['Crime_Rate'].unique()\n",
        "df['Crime_Rate'].value_counts().plot(kind='bar')"
      ]
    },
    {
      "cell_type": "code",
      "execution_count": null,
      "metadata": {
        "id": "DSI4LGdCYhao"
      },
      "outputs": [],
      "source": [
        "def crime_rate(inp):\n",
        "  if inp == 'Slightly below average':\n",
        "    return 'SBB'\n",
        "  elif inp == 'Well below average':\n",
        "    return 'WBA'\n",
        "  elif inp == 'Well above average':\n",
        "    return 'WAA'\n",
        "  elif inp == 'Slightly above average':\n",
        "    return 'SAA'\n",
        "  elif inp == 'nan':\n",
        "    return 'NA'"
      ]
    },
    {
      "cell_type": "code",
      "execution_count": null,
      "metadata": {
        "id": "S122ew5ubVHr"
      },
      "outputs": [],
      "source": [
        "df['Crime_Rate']=df['Crime_Rate'].apply(crime_rate)"
      ]
    },
    {
      "cell_type": "code",
      "execution_count": null,
      "metadata": {
        "colab": {
          "base_uri": "https://localhost:8080/",
          "height": 269
        },
        "id": "cTCuYoUAc6Wv",
        "outputId": "6e09487e-738b-428e-cde3-f032f28d49a5"
      },
      "outputs": [
        {
          "output_type": "execute_result",
          "data": {
            "text/plain": [
              "Dust_and_Noise          High       Low    Medium\n",
              "Property_Type                                   \n",
              "#R%$G&867           0.083673  0.040816  0.875510\n",
              "Apartment           0.081938  0.052130  0.865932\n",
              "Bungalow            0.087728  0.055650  0.856622\n",
              "Container Home      0.088098  0.058612  0.853290\n",
              "Duplex              0.083881  0.056513  0.859605\n",
              "Single-family home  0.083978  0.054365  0.861656"
            ],
            "text/html": [
              "\n",
              "  <div id=\"df-7d74dde1-beb3-41c9-8b4c-1f6bf73fe345\">\n",
              "    <div class=\"colab-df-container\">\n",
              "      <div>\n",
              "<style scoped>\n",
              "    .dataframe tbody tr th:only-of-type {\n",
              "        vertical-align: middle;\n",
              "    }\n",
              "\n",
              "    .dataframe tbody tr th {\n",
              "        vertical-align: top;\n",
              "    }\n",
              "\n",
              "    .dataframe thead th {\n",
              "        text-align: right;\n",
              "    }\n",
              "</style>\n",
              "<table border=\"1\" class=\"dataframe\">\n",
              "  <thead>\n",
              "    <tr style=\"text-align: right;\">\n",
              "      <th>Dust_and_Noise</th>\n",
              "      <th>High</th>\n",
              "      <th>Low</th>\n",
              "      <th>Medium</th>\n",
              "    </tr>\n",
              "    <tr>\n",
              "      <th>Property_Type</th>\n",
              "      <th></th>\n",
              "      <th></th>\n",
              "      <th></th>\n",
              "    </tr>\n",
              "  </thead>\n",
              "  <tbody>\n",
              "    <tr>\n",
              "      <th>#R%$G&amp;867</th>\n",
              "      <td>0.083673</td>\n",
              "      <td>0.040816</td>\n",
              "      <td>0.875510</td>\n",
              "    </tr>\n",
              "    <tr>\n",
              "      <th>Apartment</th>\n",
              "      <td>0.081938</td>\n",
              "      <td>0.052130</td>\n",
              "      <td>0.865932</td>\n",
              "    </tr>\n",
              "    <tr>\n",
              "      <th>Bungalow</th>\n",
              "      <td>0.087728</td>\n",
              "      <td>0.055650</td>\n",
              "      <td>0.856622</td>\n",
              "    </tr>\n",
              "    <tr>\n",
              "      <th>Container Home</th>\n",
              "      <td>0.088098</td>\n",
              "      <td>0.058612</td>\n",
              "      <td>0.853290</td>\n",
              "    </tr>\n",
              "    <tr>\n",
              "      <th>Duplex</th>\n",
              "      <td>0.083881</td>\n",
              "      <td>0.056513</td>\n",
              "      <td>0.859605</td>\n",
              "    </tr>\n",
              "    <tr>\n",
              "      <th>Single-family home</th>\n",
              "      <td>0.083978</td>\n",
              "      <td>0.054365</td>\n",
              "      <td>0.861656</td>\n",
              "    </tr>\n",
              "  </tbody>\n",
              "</table>\n",
              "</div>\n",
              "      <button class=\"colab-df-convert\" onclick=\"convertToInteractive('df-7d74dde1-beb3-41c9-8b4c-1f6bf73fe345')\"\n",
              "              title=\"Convert this dataframe to an interactive table.\"\n",
              "              style=\"display:none;\">\n",
              "        \n",
              "  <svg xmlns=\"http://www.w3.org/2000/svg\" height=\"24px\"viewBox=\"0 0 24 24\"\n",
              "       width=\"24px\">\n",
              "    <path d=\"M0 0h24v24H0V0z\" fill=\"none\"/>\n",
              "    <path d=\"M18.56 5.44l.94 2.06.94-2.06 2.06-.94-2.06-.94-.94-2.06-.94 2.06-2.06.94zm-11 1L8.5 8.5l.94-2.06 2.06-.94-2.06-.94L8.5 2.5l-.94 2.06-2.06.94zm10 10l.94 2.06.94-2.06 2.06-.94-2.06-.94-.94-2.06-.94 2.06-2.06.94z\"/><path d=\"M17.41 7.96l-1.37-1.37c-.4-.4-.92-.59-1.43-.59-.52 0-1.04.2-1.43.59L10.3 9.45l-7.72 7.72c-.78.78-.78 2.05 0 2.83L4 21.41c.39.39.9.59 1.41.59.51 0 1.02-.2 1.41-.59l7.78-7.78 2.81-2.81c.8-.78.8-2.07 0-2.86zM5.41 20L4 18.59l7.72-7.72 1.47 1.35L5.41 20z\"/>\n",
              "  </svg>\n",
              "      </button>\n",
              "      \n",
              "  <style>\n",
              "    .colab-df-container {\n",
              "      display:flex;\n",
              "      flex-wrap:wrap;\n",
              "      gap: 12px;\n",
              "    }\n",
              "\n",
              "    .colab-df-convert {\n",
              "      background-color: #E8F0FE;\n",
              "      border: none;\n",
              "      border-radius: 50%;\n",
              "      cursor: pointer;\n",
              "      display: none;\n",
              "      fill: #1967D2;\n",
              "      height: 32px;\n",
              "      padding: 0 0 0 0;\n",
              "      width: 32px;\n",
              "    }\n",
              "\n",
              "    .colab-df-convert:hover {\n",
              "      background-color: #E2EBFA;\n",
              "      box-shadow: 0px 1px 2px rgba(60, 64, 67, 0.3), 0px 1px 3px 1px rgba(60, 64, 67, 0.15);\n",
              "      fill: #174EA6;\n",
              "    }\n",
              "\n",
              "    [theme=dark] .colab-df-convert {\n",
              "      background-color: #3B4455;\n",
              "      fill: #D2E3FC;\n",
              "    }\n",
              "\n",
              "    [theme=dark] .colab-df-convert:hover {\n",
              "      background-color: #434B5C;\n",
              "      box-shadow: 0px 1px 3px 1px rgba(0, 0, 0, 0.15);\n",
              "      filter: drop-shadow(0px 1px 2px rgba(0, 0, 0, 0.3));\n",
              "      fill: #FFFFFF;\n",
              "    }\n",
              "  </style>\n",
              "\n",
              "      <script>\n",
              "        const buttonEl =\n",
              "          document.querySelector('#df-7d74dde1-beb3-41c9-8b4c-1f6bf73fe345 button.colab-df-convert');\n",
              "        buttonEl.style.display =\n",
              "          google.colab.kernel.accessAllowed ? 'block' : 'none';\n",
              "\n",
              "        async function convertToInteractive(key) {\n",
              "          const element = document.querySelector('#df-7d74dde1-beb3-41c9-8b4c-1f6bf73fe345');\n",
              "          const dataTable =\n",
              "            await google.colab.kernel.invokeFunction('convertToInteractive',\n",
              "                                                     [key], {});\n",
              "          if (!dataTable) return;\n",
              "\n",
              "          const docLinkHtml = 'Like what you see? Visit the ' +\n",
              "            '<a target=\"_blank\" href=https://colab.research.google.com/notebooks/data_table.ipynb>data table notebook</a>'\n",
              "            + ' to learn more about interactive tables.';\n",
              "          element.innerHTML = '';\n",
              "          dataTable['output_type'] = 'display_data';\n",
              "          await google.colab.output.renderOutput(dataTable, element);\n",
              "          const docLink = document.createElement('div');\n",
              "          docLink.innerHTML = docLinkHtml;\n",
              "          element.appendChild(docLink);\n",
              "        }\n",
              "      </script>\n",
              "    </div>\n",
              "  </div>\n",
              "  "
            ]
          },
          "metadata": {},
          "execution_count": 207
        }
      ],
      "source": [
        "cross_tab = pd.crosstab(index=df['Property_Type'], columns=df['Dust_and_Noise'], normalize=\"index\")\n",
        "cross_tab"
      ]
    },
    {
      "cell_type": "code",
      "execution_count": null,
      "metadata": {
        "colab": {
          "base_uri": "https://localhost:8080/",
          "height": 442
        },
        "id": "v8i8c1A6eOKJ",
        "outputId": "d4a788b3-8cf2-46c2-8e5b-73e530e8d231"
      },
      "outputs": [
        {
          "output_type": "display_data",
          "data": {
            "text/plain": [
              "<Figure size 864x504 with 1 Axes>"
            ],
            "image/png": "[encoded data removed]"
          },
          "metadata": {}
        }
      ],
      "source": [
        "cross_tab.plot(kind='barh',\n",
        "                stacked=True,\n",
        "               figsize=(12,7))\n",
        "plt.legend(loc=' left',ncol=2)\n",
        "plt.xlabel('Dust & Noise rate')\n",
        "plt.ylabel('Property Area')\n",
        "plt.show()"
      ]
    },
    {
      "cell_type": "code",
      "execution_count": null,
      "metadata": {
        "colab": {
          "base_uri": "https://localhost:8080/",
          "height": 374
        },
        "id": "jMSQh4gopsYl",
        "outputId": "48078c14-b756-48e8-b229-16186750ee7d"
      },
      "outputs": [
        {
          "output_type": "display_data",
          "data": {
            "text/plain": [
              "<Figure size 864x432 with 1 Axes>"
            ],
            "image/png": "[encoded data removed]"
          },
          "metadata": {}
        }
      ],
      "source": [
        "f,ax = plt.subplots(figsize=(12,6))\n",
        "ax=sns.distplot(x=df.Air_Quality_Index,kde=True,color='seagreen')"
      ]
    },
    {
      "cell_type": "code",
      "execution_count": null,
      "metadata": {
        "colab": {
          "base_uri": "https://localhost:8080/",
          "height": 406
        },
        "id": "3lyDjs6MrX88",
        "outputId": "90ff63d0-0ed4-47e7-dfa6-325a3af042f5"
      },
      "outputs": [
        {
          "output_type": "execute_result",
          "data": {
            "text/plain": [
              "<matplotlib.axes._subplots.AxesSubplot at 0x7f4bc72bd090>"
            ]
          },
          "metadata": {},
          "execution_count": 210
        },
        {
          "output_type": "display_data",
          "data": {
            "text/plain": [
              "<Figure size 864x432 with 1 Axes>"
            ],
            "image/png": "[encoded data removed]"
          },
          "metadata": {}
        }
      ],
      "source": [
        "f,ax = plt.subplots(figsize=(12,6))\n",
        "sns.set_style('whitegrid')\n",
        "ax=sns.boxplot(x=df.Air_Quality_Index , y=df.Property_Type , data=df)\n",
        "ax"
      ]
    },
    {
      "cell_type": "code",
      "execution_count": null,
      "metadata": {
        "colab": {
          "base_uri": "https://localhost:8080/",
          "height": 364
        },
        "id": "hFMVri942188",
        "outputId": "74dac08d-1c7d-4161-e781-731de55143a1"
      },
      "outputs": [
        {
          "output_type": "execute_result",
          "data": {
            "text/plain": [
              "       Property_Area  Number_of_Windows  Number_of_Doors  \\\n",
              "count   39499.000000       37845.000000     39499.000000   \n",
              "mean     1391.715638           3.923768         2.331375   \n",
              "std      1953.287544           2.690992         1.179964   \n",
              "min       100.000000           0.000000         1.000000   \n",
              "25%       494.000000           2.000000         1.000000   \n",
              "50%       932.000000           4.000000         2.000000   \n",
              "75%      1770.000000           5.000000         3.000000   \n",
              "max     28064.000000          15.000000         6.000000   \n",
              "\n",
              "       Frequency_of_Powercuts  Traffic_Density_Score  Air_Quality_Index  \\\n",
              "count            38116.000000           39499.000000       39499.000000   \n",
              "mean                 0.484678               6.354772         121.352566   \n",
              "std                  0.752207               1.219681          62.384669   \n",
              "min                  0.000000               0.000000           0.000000   \n",
              "25%                  0.000000               5.600000          95.000000   \n",
              "50%                  0.000000               6.470000         113.000000   \n",
              "75%                  1.000000               7.220000         140.000000   \n",
              "max                  3.000000               9.910000        1044.000000   \n",
              "\n",
              "       Neighborhood_Review  Habitability_score  \n",
              "count         39499.000000        39499.000000  \n",
              "mean              3.735945           73.482297  \n",
              "std               0.796843           14.118753  \n",
              "min               0.000000            7.280000  \n",
              "25%               3.220000           69.660000  \n",
              "50%               3.850000           75.760000  \n",
              "75%               4.260000           82.260000  \n",
              "max               5.000000          100.000000  "
            ],
            "text/html": [
              "\n",
              "  <div id=\"df-137ef38b-cf85-496d-8b30-3e3b542057f2\">\n",
              "    <div class=\"colab-df-container\">\n",
              "      <div>\n",
              "<style scoped>\n",
              "    .dataframe tbody tr th:only-of-type {\n",
              "        vertical-align: middle;\n",
              "    }\n",
              "\n",
              "    .dataframe tbody tr th {\n",
              "        vertical-align: top;\n",
              "    }\n",
              "\n",
              "    .dataframe thead th {\n",
              "        text-align: right;\n",
              "    }\n",
              "</style>\n",
              "<table border=\"1\" class=\"dataframe\">\n",
              "  <thead>\n",
              "    <tr style=\"text-align: right;\">\n",
              "      <th></th>\n",
              "      <th>Property_Area</th>\n",
              "      <th>Number_of_Windows</th>\n",
              "      <th>Number_of_Doors</th>\n",
              "      <th>Frequency_of_Powercuts</th>\n",
              "      <th>Traffic_Density_Score</th>\n",
              "      <th>Air_Quality_Index</th>\n",
              "      <th>Neighborhood_Review</th>\n",
              "      <th>Habitability_score</th>\n",
              "    </tr>\n",
              "  </thead>\n",
              "  <tbody>\n",
              "    <tr>\n",
              "      <th>count</th>\n",
              "      <td>39499.000000</td>\n",
              "      <td>37845.000000</td>\n",
              "      <td>39499.000000</td>\n",
              "      <td>38116.000000</td>\n",
              "      <td>39499.000000</td>\n",
              "      <td>39499.000000</td>\n",
              "      <td>39499.000000</td>\n",
              "      <td>39499.000000</td>\n",
              "    </tr>\n",
              "    <tr>\n",
              "      <th>mean</th>\n",
              "      <td>1391.715638</td>\n",
              "      <td>3.923768</td>\n",
              "      <td>2.331375</td>\n",
              "      <td>0.484678</td>\n",
              "      <td>6.354772</td>\n",
              "      <td>121.352566</td>\n",
              "      <td>3.735945</td>\n",
              "      <td>73.482297</td>\n",
              "    </tr>\n",
              "    <tr>\n",
              "      <th>std</th>\n",
              "      <td>1953.287544</td>\n",
              "      <td>2.690992</td>\n",
              "      <td>1.179964</td>\n",
              "      <td>0.752207</td>\n",
              "      <td>1.219681</td>\n",
              "      <td>62.384669</td>\n",
              "      <td>0.796843</td>\n",
              "      <td>14.118753</td>\n",
              "    </tr>\n",
              "    <tr>\n",
              "      <th>min</th>\n",
              "      <td>100.000000</td>\n",
              "      <td>0.000000</td>\n",
              "      <td>1.000000</td>\n",
              "      <td>0.000000</td>\n",
              "      <td>0.000000</td>\n",
              "      <td>0.000000</td>\n",
              "      <td>0.000000</td>\n",
              "      <td>7.280000</td>\n",
              "    </tr>\n",
              "    <tr>\n",
              "      <th>25%</th>\n",
              "      <td>494.000000</td>\n",
              "      <td>2.000000</td>\n",
              "      <td>1.000000</td>\n",
              "      <td>0.000000</td>\n",
              "      <td>5.600000</td>\n",
              "      <td>95.000000</td>\n",
              "      <td>3.220000</td>\n",
              "      <td>69.660000</td>\n",
              "    </tr>\n",
              "    <tr>\n",
              "      <th>50%</th>\n",
              "      <td>932.000000</td>\n",
              "      <td>4.000000</td>\n",
              "      <td>2.000000</td>\n",
              "      <td>0.000000</td>\n",
              "      <td>6.470000</td>\n",
              "      <td>113.000000</td>\n",
              "      <td>3.850000</td>\n",
              "      <td>75.760000</td>\n",
              "    </tr>\n",
              "    <tr>\n",
              "      <th>75%</th>\n",
              "      <td>1770.000000</td>\n",
              "      <td>5.000000</td>\n",
              "      <td>3.000000</td>\n",
              "      <td>1.000000</td>\n",
              "      <td>7.220000</td>\n",
              "      <td>140.000000</td>\n",
              "      <td>4.260000</td>\n",
              "      <td>82.260000</td>\n",
              "    </tr>\n",
              "    <tr>\n",
              "      <th>max</th>\n",
              "      <td>28064.000000</td>\n",
              "      <td>15.000000</td>\n",
              "      <td>6.000000</td>\n",
              "      <td>3.000000</td>\n",
              "      <td>9.910000</td>\n",
              "      <td>1044.000000</td>\n",
              "      <td>5.000000</td>\n",
              "      <td>100.000000</td>\n",
              "    </tr>\n",
              "  </tbody>\n",
              "</table>\n",
              "</div>\n",
              "      <button class=\"colab-df-convert\" onclick=\"convertToInteractive('df-137ef38b-cf85-496d-8b30-3e3b542057f2')\"\n",
              "              title=\"Convert this dataframe to an interactive table.\"\n",
              "              style=\"display:none;\">\n",
              "        \n",
              "  <svg xmlns=\"http://www.w3.org/2000/svg\" height=\"24px\"viewBox=\"0 0 24 24\"\n",
              "       width=\"24px\">\n",
              "    <path d=\"M0 0h24v24H0V0z\" fill=\"none\"/>\n",
              "    <path d=\"M18.56 5.44l.94 2.06.94-2.06 2.06-.94-2.06-.94-.94-2.06-.94 2.06-2.06.94zm-11 1L8.5 8.5l.94-2.06 2.06-.94-2.06-.94L8.5 2.5l-.94 2.06-2.06.94zm10 10l.94 2.06.94-2.06 2.06-.94-2.06-.94-.94-2.06-.94 2.06-2.06.94z\"/><path d=\"M17.41 7.96l-1.37-1.37c-.4-.4-.92-.59-1.43-.59-.52 0-1.04.2-1.43.59L10.3 9.45l-7.72 7.72c-.78.78-.78 2.05 0 2.83L4 21.41c.39.39.9.59 1.41.59.51 0 1.02-.2 1.41-.59l7.78-7.78 2.81-2.81c.8-.78.8-2.07 0-2.86zM5.41 20L4 18.59l7.72-7.72 1.47 1.35L5.41 20z\"/>\n",
              "  </svg>\n",
              "      </button>\n",
              "      \n",
              "  <style>\n",
              "    .colab-df-container {\n",
              "      display:flex;\n",
              "      flex-wrap:wrap;\n",
              "      gap: 12px;\n",
              "    }\n",
              "\n",
              "    .colab-df-convert {\n",
              "      background-color: #E8F0FE;\n",
              "      border: none;\n",
              "      border-radius: 50%;\n",
              "      cursor: pointer;\n",
              "      display: none;\n",
              "      fill: #1967D2;\n",
              "      height: 32px;\n",
              "      padding: 0 0 0 0;\n",
              "      width: 32px;\n",
              "    }\n",
              "\n",
              "    .colab-df-convert:hover {\n",
              "      background-color: #E2EBFA;\n",
              "      box-shadow: 0px 1px 2px rgba(60, 64, 67, 0.3), 0px 1px 3px 1px rgba(60, 64, 67, 0.15);\n",
              "      fill: #174EA6;\n",
              "    }\n",
              "\n",
              "    [theme=dark] .colab-df-convert {\n",
              "      background-color: #3B4455;\n",
              "      fill: #D2E3FC;\n",
              "    }\n",
              "\n",
              "    [theme=dark] .colab-df-convert:hover {\n",
              "      background-color: #434B5C;\n",
              "      box-shadow: 0px 1px 3px 1px rgba(0, 0, 0, 0.15);\n",
              "      filter: drop-shadow(0px 1px 2px rgba(0, 0, 0, 0.3));\n",
              "      fill: #FFFFFF;\n",
              "    }\n",
              "  </style>\n",
              "\n",
              "      <script>\n",
              "        const buttonEl =\n",
              "          document.querySelector('#df-137ef38b-cf85-496d-8b30-3e3b542057f2 button.colab-df-convert');\n",
              "        buttonEl.style.display =\n",
              "          google.colab.kernel.accessAllowed ? 'block' : 'none';\n",
              "\n",
              "        async function convertToInteractive(key) {\n",
              "          const element = document.querySelector('#df-137ef38b-cf85-496d-8b30-3e3b542057f2');\n",
              "          const dataTable =\n",
              "            await google.colab.kernel.invokeFunction('convertToInteractive',\n",
              "                                                     [key], {});\n",
              "          if (!dataTable) return;\n",
              "\n",
              "          const docLinkHtml = 'Like what you see? Visit the ' +\n",
              "            '<a target=\"_blank\" href=https://colab.research.google.com/notebooks/data_table.ipynb>data table notebook</a>'\n",
              "            + ' to learn more about interactive tables.';\n",
              "          element.innerHTML = '';\n",
              "          dataTable['output_type'] = 'display_data';\n",
              "          await google.colab.output.renderOutput(dataTable, element);\n",
              "          const docLink = document.createElement('div');\n",
              "          docLink.innerHTML = docLinkHtml;\n",
              "          element.appendChild(docLink);\n",
              "        }\n",
              "      </script>\n",
              "    </div>\n",
              "  </div>\n",
              "  "
            ]
          },
          "metadata": {},
          "execution_count": 211
        }
      ],
      "source": [
        "df.describe()"
      ]
    },
    {
      "cell_type": "code",
      "execution_count": null,
      "metadata": {
        "colab": {
          "base_uri": "https://localhost:8080/"
        },
        "id": "QiU7-wbPD6AZ",
        "outputId": "50e68458-c467-44cf-dbd4-2796ae14508f"
      },
      "outputs": [
        {
          "output_type": "execute_result",
          "data": {
            "text/plain": [
              "Property_ID                  0\n",
              "Property_Type                0\n",
              "Property_Area                0\n",
              "Number_of_Windows         1654\n",
              "Number_of_Doors              0\n",
              "Furnishing                1042\n",
              "Frequency_of_Powercuts    1383\n",
              "Power_Backup                 0\n",
              "Water_Supply                 0\n",
              "Traffic_Density_Score        0\n",
              "Crime_Rate                 787\n",
              "Dust_and_Noise            1219\n",
              "Air_Quality_Index            0\n",
              "Neighborhood_Review          0\n",
              "Habitability_score           0\n",
              "dtype: int64"
            ]
          },
          "metadata": {},
          "execution_count": 212
        }
      ],
      "source": [
        "df.isnull().sum()"
      ]
    },
    {
      "cell_type": "code",
      "source": [
        "df.describe()"
      ],
      "metadata": {
        "colab": {
          "base_uri": "https://localhost:8080/",
          "height": 364
        },
        "id": "OFA5F3VREyPr",
        "outputId": "0e425bba-8b61-4acd-98ca-a41b6db7b2c8"
      },
      "execution_count": null,
      "outputs": [
        {
          "output_type": "execute_result",
          "data": {
            "text/plain": [
              "       Property_Area  Number_of_Windows  Number_of_Doors  \\\n",
              "count   39499.000000       37845.000000     39499.000000   \n",
              "mean     1391.715638           3.923768         2.331375   \n",
              "std      1953.287544           2.690992         1.179964   \n",
              "min       100.000000           0.000000         1.000000   \n",
              "25%       494.000000           2.000000         1.000000   \n",
              "50%       932.000000           4.000000         2.000000   \n",
              "75%      1770.000000           5.000000         3.000000   \n",
              "max     28064.000000          15.000000         6.000000   \n",
              "\n",
              "       Frequency_of_Powercuts  Traffic_Density_Score  Air_Quality_Index  \\\n",
              "count            38116.000000           39499.000000       39499.000000   \n",
              "mean                 0.484678               6.354772         121.352566   \n",
              "std                  0.752207               1.219681          62.384669   \n",
              "min                  0.000000               0.000000           0.000000   \n",
              "25%                  0.000000               5.600000          95.000000   \n",
              "50%                  0.000000               6.470000         113.000000   \n",
              "75%                  1.000000               7.220000         140.000000   \n",
              "max                  3.000000               9.910000        1044.000000   \n",
              "\n",
              "       Neighborhood_Review  Habitability_score  \n",
              "count         39499.000000        39499.000000  \n",
              "mean              3.735945           73.482297  \n",
              "std               0.796843           14.118753  \n",
              "min               0.000000            7.280000  \n",
              "25%               3.220000           69.660000  \n",
              "50%               3.850000           75.760000  \n",
              "75%               4.260000           82.260000  \n",
              "max               5.000000          100.000000  "
            ],
            "text/html": [
              "\n",
              "  <div id=\"df-21349afe-822c-4ebc-8e0f-f8ead8268d45\">\n",
              "    <div class=\"colab-df-container\">\n",
              "      <div>\n",
              "<style scoped>\n",
              "    .dataframe tbody tr th:only-of-type {\n",
              "        vertical-align: middle;\n",
              "    }\n",
              "\n",
              "    .dataframe tbody tr th {\n",
              "        vertical-align: top;\n",
              "    }\n",
              "\n",
              "    .dataframe thead th {\n",
              "        text-align: right;\n",
              "    }\n",
              "</style>\n",
              "<table border=\"1\" class=\"dataframe\">\n",
              "  <thead>\n",
              "    <tr style=\"text-align: right;\">\n",
              "      <th></th>\n",
              "      <th>Property_Area</th>\n",
              "      <th>Number_of_Windows</th>\n",
              "      <th>Number_of_Doors</th>\n",
              "      <th>Frequency_of_Powercuts</th>\n",
              "      <th>Traffic_Density_Score</th>\n",
              "      <th>Air_Quality_Index</th>\n",
              "      <th>Neighborhood_Review</th>\n",
              "      <th>Habitability_score</th>\n",
              "    </tr>\n",
              "  </thead>\n",
              "  <tbody>\n",
              "    <tr>\n",
              "      <th>count</th>\n",
              "      <td>39499.000000</td>\n",
              "      <td>37845.000000</td>\n",
              "      <td>39499.000000</td>\n",
              "      <td>38116.000000</td>\n",
              "      <td>39499.000000</td>\n",
              "      <td>39499.000000</td>\n",
              "      <td>39499.000000</td>\n",
              "      <td>39499.000000</td>\n",
              "    </tr>\n",
              "    <tr>\n",
              "      <th>mean</th>\n",
              "      <td>1391.715638</td>\n",
              "      <td>3.923768</td>\n",
              "      <td>2.331375</td>\n",
              "      <td>0.484678</td>\n",
              "      <td>6.354772</td>\n",
              "      <td>121.352566</td>\n",
              "      <td>3.735945</td>\n",
              "      <td>73.482297</td>\n",
              "    </tr>\n",
              "    <tr>\n",
              "      <th>std</th>\n",
              "      <td>1953.287544</td>\n",
              "      <td>2.690992</td>\n",
              "      <td>1.179964</td>\n",
              "      <td>0.752207</td>\n",
              "      <td>1.219681</td>\n",
              "      <td>62.384669</td>\n",
              "      <td>0.796843</td>\n",
              "      <td>14.118753</td>\n",
              "    </tr>\n",
              "    <tr>\n",
              "      <th>min</th>\n",
              "      <td>100.000000</td>\n",
              "      <td>0.000000</td>\n",
              "      <td>1.000000</td>\n",
              "      <td>0.000000</td>\n",
              "      <td>0.000000</td>\n",
              "      <td>0.000000</td>\n",
              "      <td>0.000000</td>\n",
              "      <td>7.280000</td>\n",
              "    </tr>\n",
              "    <tr>\n",
              "      <th>25%</th>\n",
              "      <td>494.000000</td>\n",
              "      <td>2.000000</td>\n",
              "      <td>1.000000</td>\n",
              "      <td>0.000000</td>\n",
              "      <td>5.600000</td>\n",
              "      <td>95.000000</td>\n",
              "      <td>3.220000</td>\n",
              "      <td>69.660000</td>\n",
              "    </tr>\n",
              "    <tr>\n",
              "      <th>50%</th>\n",
              "      <td>932.000000</td>\n",
              "      <td>4.000000</td>\n",
              "      <td>2.000000</td>\n",
              "      <td>0.000000</td>\n",
              "      <td>6.470000</td>\n",
              "      <td>113.000000</td>\n",
              "      <td>3.850000</td>\n",
              "      <td>75.760000</td>\n",
              "    </tr>\n",
              "    <tr>\n",
              "      <th>75%</th>\n",
              "      <td>1770.000000</td>\n",
              "      <td>5.000000</td>\n",
              "      <td>3.000000</td>\n",
              "      <td>1.000000</td>\n",
              "      <td>7.220000</td>\n",
              "      <td>140.000000</td>\n",
              "      <td>4.260000</td>\n",
              "      <td>82.260000</td>\n",
              "    </tr>\n",
              "    <tr>\n",
              "      <th>max</th>\n",
              "      <td>28064.000000</td>\n",
              "      <td>15.000000</td>\n",
              "      <td>6.000000</td>\n",
              "      <td>3.000000</td>\n",
              "      <td>9.910000</td>\n",
              "      <td>1044.000000</td>\n",
              "      <td>5.000000</td>\n",
              "      <td>100.000000</td>\n",
              "    </tr>\n",
              "  </tbody>\n",
              "</table>\n",
              "</div>\n",
              "      <button class=\"colab-df-convert\" onclick=\"convertToInteractive('df-21349afe-822c-4ebc-8e0f-f8ead8268d45')\"\n",
              "              title=\"Convert this dataframe to an interactive table.\"\n",
              "              style=\"display:none;\">\n",
              "        \n",
              "  <svg xmlns=\"http://www.w3.org/2000/svg\" height=\"24px\"viewBox=\"0 0 24 24\"\n",
              "       width=\"24px\">\n",
              "    <path d=\"M0 0h24v24H0V0z\" fill=\"none\"/>\n",
              "    <path d=\"M18.56 5.44l.94 2.06.94-2.06 2.06-.94-2.06-.94-.94-2.06-.94 2.06-2.06.94zm-11 1L8.5 8.5l.94-2.06 2.06-.94-2.06-.94L8.5 2.5l-.94 2.06-2.06.94zm10 10l.94 2.06.94-2.06 2.06-.94-2.06-.94-.94-2.06-.94 2.06-2.06.94z\"/><path d=\"M17.41 7.96l-1.37-1.37c-.4-.4-.92-.59-1.43-.59-.52 0-1.04.2-1.43.59L10.3 9.45l-7.72 7.72c-.78.78-.78 2.05 0 2.83L4 21.41c.39.39.9.59 1.41.59.51 0 1.02-.2 1.41-.59l7.78-7.78 2.81-2.81c.8-.78.8-2.07 0-2.86zM5.41 20L4 18.59l7.72-7.72 1.47 1.35L5.41 20z\"/>\n",
              "  </svg>\n",
              "      </button>\n",
              "      \n",
              "  <style>\n",
              "    .colab-df-container {\n",
              "      display:flex;\n",
              "      flex-wrap:wrap;\n",
              "      gap: 12px;\n",
              "    }\n",
              "\n",
              "    .colab-df-convert {\n",
              "      background-color: #E8F0FE;\n",
              "      border: none;\n",
              "      border-radius: 50%;\n",
              "      cursor: pointer;\n",
              "      display: none;\n",
              "      fill: #1967D2;\n",
              "      height: 32px;\n",
              "      padding: 0 0 0 0;\n",
              "      width: 32px;\n",
              "    }\n",
              "\n",
              "    .colab-df-convert:hover {\n",
              "      background-color: #E2EBFA;\n",
              "      box-shadow: 0px 1px 2px rgba(60, 64, 67, 0.3), 0px 1px 3px 1px rgba(60, 64, 67, 0.15);\n",
              "      fill: #174EA6;\n",
              "    }\n",
              "\n",
              "    [theme=dark] .colab-df-convert {\n",
              "      background-color: #3B4455;\n",
              "      fill: #D2E3FC;\n",
              "    }\n",
              "\n",
              "    [theme=dark] .colab-df-convert:hover {\n",
              "      background-color: #434B5C;\n",
              "      box-shadow: 0px 1px 3px 1px rgba(0, 0, 0, 0.15);\n",
              "      filter: drop-shadow(0px 1px 2px rgba(0, 0, 0, 0.3));\n",
              "      fill: #FFFFFF;\n",
              "    }\n",
              "  </style>\n",
              "\n",
              "      <script>\n",
              "        const buttonEl =\n",
              "          document.querySelector('#df-21349afe-822c-4ebc-8e0f-f8ead8268d45 button.colab-df-convert');\n",
              "        buttonEl.style.display =\n",
              "          google.colab.kernel.accessAllowed ? 'block' : 'none';\n",
              "\n",
              "        async function convertToInteractive(key) {\n",
              "          const element = document.querySelector('#df-21349afe-822c-4ebc-8e0f-f8ead8268d45');\n",
              "          const dataTable =\n",
              "            await google.colab.kernel.invokeFunction('convertToInteractive',\n",
              "                                                     [key], {});\n",
              "          if (!dataTable) return;\n",
              "\n",
              "          const docLinkHtml = 'Like what you see? Visit the ' +\n",
              "            '<a target=\"_blank\" href=https://colab.research.google.com/notebooks/data_table.ipynb>data table notebook</a>'\n",
              "            + ' to learn more about interactive tables.';\n",
              "          element.innerHTML = '';\n",
              "          dataTable['output_type'] = 'display_data';\n",
              "          await google.colab.output.renderOutput(dataTable, element);\n",
              "          const docLink = document.createElement('div');\n",
              "          docLink.innerHTML = docLinkHtml;\n",
              "          element.appendChild(docLink);\n",
              "        }\n",
              "      </script>\n",
              "    </div>\n",
              "  </div>\n",
              "  "
            ]
          },
          "metadata": {},
          "execution_count": 213
        }
      ]
    },
    {
      "cell_type": "markdown",
      "source": [
        "# Feature Engineering\n"
      ],
      "metadata": {
        "id": "ozPc04iD8LWb"
      }
    },
    {
      "cell_type": "code",
      "source": [
        "ft=numerical_col = ['Property_Area','Number_of_Windows','Number_of_Doors','Frequency_of_Powercuts','Traffic_Density_Score','Air_Quality_Index','Neighborhood_Review']\n",
        "categorical_col = ['Property_Type','Furnishing\t','Water_Supply','Dust_and_Noise']\n",
        "sns.boxplot(df['Air_Quality_Index'])"
      ],
      "metadata": {
        "colab": {
          "base_uri": "https://localhost:8080/",
          "height": 297
        },
        "id": "7KqYbcGC0mTE",
        "outputId": "0c68a080-509d-46db-f0fd-a76347d3cc18"
      },
      "execution_count": null,
      "outputs": [
        {
          "output_type": "execute_result",
          "data": {
            "text/plain": [
              "<matplotlib.axes._subplots.AxesSubplot at 0x7f4b890d9610>"
            ]
          },
          "metadata": {},
          "execution_count": 214
        },
        {
          "output_type": "display_data",
          "data": {
            "text/plain": [
              "<Figure size 432x288 with 1 Axes>"
            ],
            "image/png": "[encoded data removed]"
          },
          "metadata": {}
        }
      ]
    },
    {
      "cell_type": "code",
      "source": [
        "#check outliers in Air quality index column \n",
        "print('Outliers of Air quality index column ')\n",
        "old_df = df['Air_Quality_Index'].copy()\n",
        "Q1 = np.quantile(df['Air_Quality_Index'],0.25)\n",
        "Q3 = np.quantile(df['Air_Quality_Index'],0.75)\n",
        "IQR = Q3-Q1\n",
        "lower_limit = Q1 - 1.5*IQR\n",
        "upper_limit = Q3 + 1.5*IQR\n",
        "print(\" Upper Limit : \", upper_limit)\n",
        "print(\" Lower Limit : \", lower_limit)\n",
        "df['Air_Quality_Index'] = np.where(\n",
        "    df['Air_Quality_Index'] > upper_limit,upper_limit,\n",
        "    np.where(\n",
        "        df['Air_Quality_Index'] < lower_limit,lower_limit,\n",
        "        df['Air_Quality_Index']\n",
        "    )\n",
        ")\n",
        "new_df = df['Air_Quality_Index'].copy()\n",
        "# after IQR recheking of outliers: \n",
        "\n",
        "# comparing \n",
        "plt.figure(figsize=(16,8))\n",
        "plt.subplot(2,2,1)\n",
        "sns.distplot(old_df)\n",
        "\n",
        "plt.subplot(2,2,2)\n",
        "sns.boxplot(old_df)\n",
        "\n",
        "plt.subplot(2,2,3)\n",
        "sns.distplot(new_df)\n",
        "\n",
        "plt.subplot(2,2,4)\n",
        "sns.boxplot(new_df)\n",
        "\n",
        "plt.show()"
      ],
      "metadata": {
        "colab": {
          "base_uri": "https://localhost:8080/",
          "height": 550
        },
        "id": "uaNQOKVg7jPu",
        "outputId": "0abe3df4-ddf3-4b2b-922a-5ecaa3406488"
      },
      "execution_count": null,
      "outputs": [
        {
          "output_type": "stream",
          "name": "stdout",
          "text": [
            "Outliers of Air quality index column \n",
            " Upper Limit :  207.5\n",
            " Lower Limit :  27.5\n"
          ]
        },
        {
          "output_type": "display_data",
          "data": {
            "text/plain": [
              "<Figure size 1152x576 with 4 Axes>"
            ],
            "image/png": "[encoded data removed]"
          },
          "metadata": {}
        }
      ]
    },
    {
      "cell_type": "code",
      "source": [
        "#check outliers of Property Area column \n",
        "print('find outliers in Property Area')\n",
        "df['Property_Area'].skew()\n",
        "old_df = df['Property_Area'].copy()\n",
        "Q1 = np.quantile(df['Property_Area'],0.25)\n",
        "Q3 = np.quantile(df['Property_Area'],0.75)\n",
        "IQR = Q3-Q1\n",
        "lower_limit = Q1 - 1.5*IQR\n",
        "upper_limit = Q3 + 1.5*IQR\n",
        "print(\" Upper Limit : \", upper_limit)\n",
        "print(\" Lower Limit : \", lower_limit)\n",
        "df['Property_Area'] = np.where(\n",
        "    df['Property_Area'] > upper_limit,upper_limit,\n",
        "    np.where(\n",
        "        df['Property_Area'] < lower_limit,lower_limit,\n",
        "        df['Property_Area']\n",
        "    )\n",
        ")\n",
        "new_df = df['Property_Area'].copy()\n",
        "new_df\n",
        "# after IQR recheking of outliers: \n",
        "\n",
        "\n",
        "# comparing \n",
        "plt.figure(figsize=(16,8))\n",
        "plt.subplot(2,2,1)\n",
        "sns.distplot(old_df)\n",
        "\n",
        "plt.subplot(2,2,2)\n",
        "sns.boxplot(old_df)\n",
        "\n",
        "plt.subplot(2,2,3)\n",
        "sns.distplot(new_df)\n",
        "\n",
        "plt.subplot(2,2,4)\n",
        "sns.boxplot(new_df)\n",
        "\n",
        "plt.show()"
      ],
      "metadata": {
        "colab": {
          "base_uri": "https://localhost:8080/",
          "height": 550
        },
        "id": "2pD7BxjBDbMU",
        "outputId": "a1b61291-c1bc-4311-ee29-d3075a0c91dd"
      },
      "execution_count": null,
      "outputs": [
        {
          "output_type": "stream",
          "name": "stdout",
          "text": [
            "find outliers in Property Area\n",
            " Upper Limit :  3684.0\n",
            " Lower Limit :  -1420.0\n"
          ]
        },
        {
          "output_type": "display_data",
          "data": {
            "text/plain": [
              "<Figure size 1152x576 with 4 Axes>"
            ],
            "image/png": "[encoded data removed]"
          },
          "metadata": {}
        }
      ]
    },
    {
      "cell_type": "code",
      "source": [
        "#check outliers of Habitability Score column \n",
        "print('find outliers in Habitability_score')\n",
        "df['Habitability_score'].skew()\n",
        "old_df = df['Property_Area'].copy()\n",
        "Q1 = np.quantile(df['Habitability_score'],0.25)\n",
        "Q3 = np.quantile(df['Habitability_score'],0.75)\n",
        "IQR = Q3-Q1\n",
        "lower_limit = Q1 - 1.5*IQR\n",
        "upper_limit = Q3 + 1.5*IQR\n",
        "print(\" Upper Limit : \", upper_limit)\n",
        "print(\" Lower Limit : \", lower_limit)\n",
        "df['Habitability_score'] = np.where(\n",
        "    df['Habitability_score'] > upper_limit,upper_limit,\n",
        "    np.where(\n",
        "        df['Habitability_score'] < lower_limit,lower_limit,\n",
        "        df['Habitability_score']\n",
        "    )\n",
        ")\n",
        "new_df = df['Habitability_score'].copy()\n",
        "new_df\n",
        "# after IQR recheking of outliers: \n",
        "\n",
        "\n",
        "# comparing \n",
        "plt.figure(figsize=(16,8))\n",
        "plt.subplot(2,2,1)\n",
        "sns.distplot(old_df)\n",
        "\n",
        "plt.subplot(2,2,2)\n",
        "sns.boxplot(old_df)\n",
        "\n",
        "plt.subplot(2,2,3)\n",
        "sns.distplot(new_df)\n",
        "\n",
        "plt.subplot(2,2,4)\n",
        "sns.boxplot(new_df)\n",
        "\n",
        "plt.show()"
      ],
      "metadata": {
        "colab": {
          "base_uri": "https://localhost:8080/",
          "height": 550
        },
        "id": "pw-kHFuiNKDX",
        "outputId": "d4c40ba0-005e-423b-bb22-6a4bef29bd78"
      },
      "execution_count": null,
      "outputs": [
        {
          "output_type": "stream",
          "name": "stdout",
          "text": [
            "find outliers in Habitability_score\n",
            " Upper Limit :  101.16000000000003\n",
            " Lower Limit :  50.759999999999984\n"
          ]
        },
        {
          "output_type": "display_data",
          "data": {
            "text/plain": [
              "<Figure size 1152x576 with 4 Axes>"
            ],
            "image/png": "[encoded data removed]"
          },
          "metadata": {}
        }
      ]
    },
    {
      "cell_type": "code",
      "source": [
        "#check outliers of Neighbourhood Score column \n",
        "print('find outliers in Neighbour Hood Score')\n",
        "sns.boxplot(df['Neighborhood_Review'])\n",
        "df['Neighborhood_Review'].skew()\n",
        "old_df = df['Neighborhood_Review'].copy()\n",
        "Q1 = np.quantile(df['Neighborhood_Review'],0.25)\n",
        "Q3 = np.quantile(df['Neighborhood_Review'],0.75)\n",
        "IQR = Q3-Q1\n",
        "lower_limit = Q1 - 1.5*IQR\n",
        "upper_limit = Q3 + 1.5*IQR\n",
        "print(\" Upper Limit : \", upper_limit)\n",
        "print(\" Lower Limit : \", lower_limit)\n",
        "df['Neighborhood_Review'] = np.where(\n",
        "    df['Neighborhood_Review'] > upper_limit,upper_limit,\n",
        "    np.where(\n",
        "        df['Neighborhood_Review'] < lower_limit,lower_limit,\n",
        "        df['Neighborhood_Review']\n",
        "    )\n",
        ")\n",
        "new_df = df['Neighborhood_Review'].copy()\n",
        "new_df\n",
        "# after IQR recheking of outliers: \n",
        "\n",
        "\n",
        "# comparing \n",
        "plt.figure(figsize=(16,8))\n",
        "plt.subplot(2,2,1)\n",
        "sns.distplot(old_df)\n",
        "\n",
        "plt.subplot(2,2,2)\n",
        "sns.boxplot(old_df)\n",
        "\n",
        "plt.subplot(2,2,3)\n",
        "sns.distplot(new_df)\n",
        "\n",
        "plt.subplot(2,2,4)\n",
        "sns.boxplot(new_df)\n",
        "\n",
        "plt.show()"
      ],
      "metadata": {
        "colab": {
          "base_uri": "https://localhost:8080/",
          "height": 813
        },
        "id": "uF3ZYz0fbNMe",
        "outputId": "8f1acbea-bd6f-4a0d-c88b-d36d48c57670"
      },
      "execution_count": null,
      "outputs": [
        {
          "output_type": "stream",
          "name": "stdout",
          "text": [
            "find outliers in Neighbour Hood Score\n",
            " Upper Limit :  5.819999999999999\n",
            " Lower Limit :  1.6600000000000008\n"
          ]
        },
        {
          "output_type": "display_data",
          "data": {
            "text/plain": [
              "<Figure size 432x288 with 1 Axes>"
            ],
            "image/png": "[encoded data removed]"
          },
          "metadata": {}
        },
        {
          "output_type": "display_data",
          "data": {
            "text/plain": [
              "<Figure size 1152x576 with 4 Axes>"
            ],
            "image/png": "[encoded data removed]"
          },
          "metadata": {}
        }
      ]
    },
    {
      "cell_type": "code",
      "source": [
        "#check outliers of Traffic Density Score column \n",
        "print('find outliers in Traffic_Density_Score Score')\n",
        "sns.boxplot(df['Traffic_Density_Score'])\n",
        "df['Traffic_Density_Score'].skew()\n",
        "old_df = df['Traffic_Density_Score'].copy()\n",
        "Q1 = np.quantile(df['Traffic_Density_Score'],0.25)\n",
        "Q3 = np.quantile(df['Traffic_Density_Score'],0.75)\n",
        "IQR = Q3-Q1\n",
        "lower_limit = Q1 - 1.5*IQR\n",
        "upper_limit = Q3 + 1.5*IQR\n",
        "print(\" Upper Limit : \", upper_limit)\n",
        "print(\" Lower Limit : \", lower_limit)\n",
        "df['Traffic_Density_Score'] = np.where(\n",
        "    df['Traffic_Density_Score'] > upper_limit,upper_limit,\n",
        "    np.where(\n",
        "        df['Traffic_Density_Score'] < lower_limit,lower_limit,\n",
        "        df['Traffic_Density_Score']\n",
        "    )\n",
        ")\n",
        "new_df = df['Traffic_Density_Score'].copy()\n",
        "new_df\n",
        "# after IQR recheking of outliers: \n",
        "\n",
        "\n",
        "# comparing \n",
        "plt.figure(figsize=(16,8))\n",
        "plt.subplot(2,2,1)\n",
        "sns.distplot(old_df)\n",
        "\n",
        "plt.subplot(2,2,2)\n",
        "sns.boxplot(old_df)\n",
        "\n",
        "plt.subplot(2,2,3)\n",
        "sns.distplot(new_df)\n",
        "\n",
        "plt.subplot(2,2,4)\n",
        "sns.boxplot(new_df)\n",
        "\n",
        "plt.show()"
      ],
      "metadata": {
        "colab": {
          "base_uri": "https://localhost:8080/",
          "height": 813
        },
        "id": "9bufSloNcfiM",
        "outputId": "c5178410-af1b-47c1-9936-dddf714787bb"
      },
      "execution_count": null,
      "outputs": [
        {
          "output_type": "stream",
          "name": "stdout",
          "text": [
            "find outliers in Traffic_Density_Score Score\n",
            " Upper Limit :  9.65\n",
            " Lower Limit :  3.1699999999999995\n"
          ]
        },
        {
          "output_type": "display_data",
          "data": {
            "text/plain": [
              "<Figure size 432x288 with 1 Axes>"
            ],
            "image/png": "[encoded data removed]"
          },
          "metadata": {}
        },
        {
          "output_type": "display_data",
          "data": {
            "text/plain": [
              "<Figure size 1152x576 with 4 Axes>"
            ],
            "image/png": "[encoded data removed]"
          },
          "metadata": {}
        }
      ]
    },
    {
      "cell_type": "code",
      "source": [
        ""
      ],
      "metadata": {
        "id": "GzP1tPn-dE_S"
      },
      "execution_count": null,
      "outputs": []
    },
    {
      "cell_type": "code",
      "execution_count": null,
      "metadata": {
        "id": "Iu2qGw2z4SNN"
      },
      "outputs": [],
      "source": [
        "# important libraries for developing a pipeline\n",
        "from sklearn.model_selection import train_test_split\n",
        "from sklearn.compose import ColumnTransformer\n",
        "from sklearn.impute import SimpleImputer\n",
        "from sklearn.preprocessing import OneHotEncoder\n",
        "from sklearn.preprocessing import MinMaxScaler\n",
        "from sklearn.pipeline import Pipeline , make_pipeline\n",
        "from sklearn.feature_selection import SelectKBest , chi2\n",
        "from sklearn.linear_model import Lasso , LinearRegression\n",
        "# import model metrics evalution\n",
        "from sklearn.metrics import accuracy_score , mean_absolute_error , mean_squared_error , r2_score"
      ]
    },
    {
      "cell_type": "code",
      "execution_count": null,
      "metadata": {
        "id": "Oy3p4ai0CNti"
      },
      "outputs": [],
      "source": [
        "X= df.drop(['Habitability_score', 'Property_ID'],axis=1)\n",
        "y= df['Habitability_score']"
      ]
    },
    {
      "cell_type": "code",
      "execution_count": null,
      "metadata": {
        "id": "I88kr-U_CkBO"
      },
      "outputs": [],
      "source": [
        "X_train , X_test , y_train , y_test = train_test_split(X,y,test_size=0.2,random_state=42)"
      ]
    },
    {
      "cell_type": "code",
      "execution_count": null,
      "metadata": {
        "colab": {
          "base_uri": "https://localhost:8080/"
        },
        "id": "H9E3vdSeC3IY",
        "outputId": "f24deb94-0a4c-4996-9ad2-ccdd2fa8c4fa"
      },
      "outputs": [
        {
          "output_type": "stream",
          "name": "stdout",
          "text": [
            "shape of X values both train and test ((31599, 13), (7900, 13)) \n",
            "shape of y values both train and test ((31599,), (7900,)) \n"
          ]
        }
      ],
      "source": [
        "print(f\"shape of X values both train and test {X_train.shape , X_test.shape} \")\n",
        "print(f\"shape of y values both train and test {y_train.shape , y_test.shape} \")"
      ]
    },
    {
      "cell_type": "code",
      "execution_count": null,
      "metadata": {
        "colab": {
          "base_uri": "https://localhost:8080/",
          "height": 288
        },
        "id": "cOITd3nUDIbf",
        "outputId": "db36bf6d-d17d-4ea9-e203-590e3264eeec"
      },
      "outputs": [
        {
          "output_type": "execute_result",
          "data": {
            "text/plain": [
              "        Property_Type  Property_Area  Number_of_Windows  Number_of_Doors  \\\n",
              "5172         Bungalow         2677.0                9.0                2   \n",
              "21982       Apartment          676.0                3.0                2   \n",
              "3353           Duplex          855.0                6.0                2   \n",
              "13581  Container Home          365.0                3.0                1   \n",
              "7492        Apartment          481.0                3.0                2   \n",
              "\n",
              "            Furnishing  Frequency_of_Powercuts Power_Backup Water_Supply  \\\n",
              "5172       Unfurnished                     NaN           No      Evening   \n",
              "21982   Semi_Furnished                     1.0           No    Avialable   \n",
              "3353       Unfurnished                     1.0           No      Morning   \n",
              "13581   Semi_Furnished                     2.0           No          Two   \n",
              "7492   Fully Furnished                     2.0          Yes      Morning   \n",
              "\n",
              "       Traffic_Density_Score Crime_Rate Dust_and_Noise  Air_Quality_Index  \\\n",
              "5172                    7.40        WBA         Medium              150.0   \n",
              "21982                   6.88        SBB         Medium              164.0   \n",
              "3353                    6.01        WBA         Medium              139.0   \n",
              "13581                   6.96        WBA         Medium               98.0   \n",
              "7492                    5.14        SBB         Medium               86.0   \n",
              "\n",
              "       Neighborhood_Review  \n",
              "5172                  4.09  \n",
              "21982                 3.45  \n",
              "3353                  3.80  \n",
              "13581                 2.59  \n",
              "7492                  2.62  "
            ],
            "text/html": [
              "\n",
              "  <div id=\"df-37db1135-05f1-4f31-a23c-a8c1b953095f\">\n",
              "    <div class=\"colab-df-container\">\n",
              "      <div>\n",
              "<style scoped>\n",
              "    .dataframe tbody tr th:only-of-type {\n",
              "        vertical-align: middle;\n",
              "    }\n",
              "\n",
              "    .dataframe tbody tr th {\n",
              "        vertical-align: top;\n",
              "    }\n",
              "\n",
              "    .dataframe thead th {\n",
              "        text-align: right;\n",
              "    }\n",
              "</style>\n",
              "<table border=\"1\" class=\"dataframe\">\n",
              "  <thead>\n",
              "    <tr style=\"text-align: right;\">\n",
              "      <th></th>\n",
              "      <th>Property_Type</th>\n",
              "      <th>Property_Area</th>\n",
              "      <th>Number_of_Windows</th>\n",
              "      <th>Number_of_Doors</th>\n",
              "      <th>Furnishing</th>\n",
              "      <th>Frequency_of_Powercuts</th>\n",
              "      <th>Power_Backup</th>\n",
              "      <th>Water_Supply</th>\n",
              "      <th>Traffic_Density_Score</th>\n",
              "      <th>Crime_Rate</th>\n",
              "      <th>Dust_and_Noise</th>\n",
              "      <th>Air_Quality_Index</th>\n",
              "      <th>Neighborhood_Review</th>\n",
              "    </tr>\n",
              "  </thead>\n",
              "  <tbody>\n",
              "    <tr>\n",
              "      <th>5172</th>\n",
              "      <td>Bungalow</td>\n",
              "      <td>2677.0</td>\n",
              "      <td>9.0</td>\n",
              "      <td>2</td>\n",
              "      <td>Unfurnished</td>\n",
              "      <td>NaN</td>\n",
              "      <td>No</td>\n",
              "      <td>Evening</td>\n",
              "      <td>7.40</td>\n",
              "      <td>WBA</td>\n",
              "      <td>Medium</td>\n",
              "      <td>150.0</td>\n",
              "      <td>4.09</td>\n",
              "    </tr>\n",
              "    <tr>\n",
              "      <th>21982</th>\n",
              "      <td>Apartment</td>\n",
              "      <td>676.0</td>\n",
              "      <td>3.0</td>\n",
              "      <td>2</td>\n",
              "      <td>Semi_Furnished</td>\n",
              "      <td>1.0</td>\n",
              "      <td>No</td>\n",
              "      <td>Avialable</td>\n",
              "      <td>6.88</td>\n",
              "      <td>SBB</td>\n",
              "      <td>Medium</td>\n",
              "      <td>164.0</td>\n",
              "      <td>3.45</td>\n",
              "    </tr>\n",
              "    <tr>\n",
              "      <th>3353</th>\n",
              "      <td>Duplex</td>\n",
              "      <td>855.0</td>\n",
              "      <td>6.0</td>\n",
              "      <td>2</td>\n",
              "      <td>Unfurnished</td>\n",
              "      <td>1.0</td>\n",
              "      <td>No</td>\n",
              "      <td>Morning</td>\n",
              "      <td>6.01</td>\n",
              "      <td>WBA</td>\n",
              "      <td>Medium</td>\n",
              "      <td>139.0</td>\n",
              "      <td>3.80</td>\n",
              "    </tr>\n",
              "    <tr>\n",
              "      <th>13581</th>\n",
              "      <td>Container Home</td>\n",
              "      <td>365.0</td>\n",
              "      <td>3.0</td>\n",
              "      <td>1</td>\n",
              "      <td>Semi_Furnished</td>\n",
              "      <td>2.0</td>\n",
              "      <td>No</td>\n",
              "      <td>Two</td>\n",
              "      <td>6.96</td>\n",
              "      <td>WBA</td>\n",
              "      <td>Medium</td>\n",
              "      <td>98.0</td>\n",
              "      <td>2.59</td>\n",
              "    </tr>\n",
              "    <tr>\n",
              "      <th>7492</th>\n",
              "      <td>Apartment</td>\n",
              "      <td>481.0</td>\n",
              "      <td>3.0</td>\n",
              "      <td>2</td>\n",
              "      <td>Fully Furnished</td>\n",
              "      <td>2.0</td>\n",
              "      <td>Yes</td>\n",
              "      <td>Morning</td>\n",
              "      <td>5.14</td>\n",
              "      <td>SBB</td>\n",
              "      <td>Medium</td>\n",
              "      <td>86.0</td>\n",
              "      <td>2.62</td>\n",
              "    </tr>\n",
              "  </tbody>\n",
              "</table>\n",
              "</div>\n",
              "      <button class=\"colab-df-convert\" onclick=\"convertToInteractive('df-37db1135-05f1-4f31-a23c-a8c1b953095f')\"\n",
              "              title=\"Convert this dataframe to an interactive table.\"\n",
              "              style=\"display:none;\">\n",
              "        \n",
              "  <svg xmlns=\"http://www.w3.org/2000/svg\" height=\"24px\"viewBox=\"0 0 24 24\"\n",
              "       width=\"24px\">\n",
              "    <path d=\"M0 0h24v24H0V0z\" fill=\"none\"/>\n",
              "    <path d=\"M18.56 5.44l.94 2.06.94-2.06 2.06-.94-2.06-.94-.94-2.06-.94 2.06-2.06.94zm-11 1L8.5 8.5l.94-2.06 2.06-.94-2.06-.94L8.5 2.5l-.94 2.06-2.06.94zm10 10l.94 2.06.94-2.06 2.06-.94-2.06-.94-.94-2.06-.94 2.06-2.06.94z\"/><path d=\"M17.41 7.96l-1.37-1.37c-.4-.4-.92-.59-1.43-.59-.52 0-1.04.2-1.43.59L10.3 9.45l-7.72 7.72c-.78.78-.78 2.05 0 2.83L4 21.41c.39.39.9.59 1.41.59.51 0 1.02-.2 1.41-.59l7.78-7.78 2.81-2.81c.8-.78.8-2.07 0-2.86zM5.41 20L4 18.59l7.72-7.72 1.47 1.35L5.41 20z\"/>\n",
              "  </svg>\n",
              "      </button>\n",
              "      \n",
              "  <style>\n",
              "    .colab-df-container {\n",
              "      display:flex;\n",
              "      flex-wrap:wrap;\n",
              "      gap: 12px;\n",
              "    }\n",
              "\n",
              "    .colab-df-convert {\n",
              "      background-color: #E8F0FE;\n",
              "      border: none;\n",
              "      border-radius: 50%;\n",
              "      cursor: pointer;\n",
              "      display: none;\n",
              "      fill: #1967D2;\n",
              "      height: 32px;\n",
              "      padding: 0 0 0 0;\n",
              "      width: 32px;\n",
              "    }\n",
              "\n",
              "    .colab-df-convert:hover {\n",
              "      background-color: #E2EBFA;\n",
              "      box-shadow: 0px 1px 2px rgba(60, 64, 67, 0.3), 0px 1px 3px 1px rgba(60, 64, 67, 0.15);\n",
              "      fill: #174EA6;\n",
              "    }\n",
              "\n",
              "    [theme=dark] .colab-df-convert {\n",
              "      background-color: #3B4455;\n",
              "      fill: #D2E3FC;\n",
              "    }\n",
              "\n",
              "    [theme=dark] .colab-df-convert:hover {\n",
              "      background-color: #434B5C;\n",
              "      box-shadow: 0px 1px 3px 1px rgba(0, 0, 0, 0.15);\n",
              "      filter: drop-shadow(0px 1px 2px rgba(0, 0, 0, 0.3));\n",
              "      fill: #FFFFFF;\n",
              "    }\n",
              "  </style>\n",
              "\n",
              "      <script>\n",
              "        const buttonEl =\n",
              "          document.querySelector('#df-37db1135-05f1-4f31-a23c-a8c1b953095f button.colab-df-convert');\n",
              "        buttonEl.style.display =\n",
              "          google.colab.kernel.accessAllowed ? 'block' : 'none';\n",
              "\n",
              "        async function convertToInteractive(key) {\n",
              "          const element = document.querySelector('#df-37db1135-05f1-4f31-a23c-a8c1b953095f');\n",
              "          const dataTable =\n",
              "            await google.colab.kernel.invokeFunction('convertToInteractive',\n",
              "                                                     [key], {});\n",
              "          if (!dataTable) return;\n",
              "\n",
              "          const docLinkHtml = 'Like what you see? Visit the ' +\n",
              "            '<a target=\"_blank\" href=https://colab.research.google.com/notebooks/data_table.ipynb>data table notebook</a>'\n",
              "            + ' to learn more about interactive tables.';\n",
              "          element.innerHTML = '';\n",
              "          dataTable['output_type'] = 'display_data';\n",
              "          await google.colab.output.renderOutput(dataTable, element);\n",
              "          const docLink = document.createElement('div');\n",
              "          docLink.innerHTML = docLinkHtml;\n",
              "          element.appendChild(docLink);\n",
              "        }\n",
              "      </script>\n",
              "    </div>\n",
              "  </div>\n",
              "  "
            ]
          },
          "metadata": {},
          "execution_count": 224
        }
      ],
      "source": [
        "X_train.head()"
      ]
    },
    {
      "cell_type": "code",
      "source": [
        "X_train.describe()"
      ],
      "metadata": {
        "colab": {
          "base_uri": "https://localhost:8080/",
          "height": 364
        },
        "id": "1EhZ2BneGaUE",
        "outputId": "100144bf-621f-478f-b026-59efc7155b01"
      },
      "execution_count": null,
      "outputs": [
        {
          "output_type": "execute_result",
          "data": {
            "text/plain": [
              "       Property_Area  Number_of_Windows  Number_of_Doors  \\\n",
              "count   31599.000000       30238.000000     31599.000000   \n",
              "mean     1223.216811           3.926020         2.332099   \n",
              "std       925.508229           2.688989         1.179945   \n",
              "min       100.000000           0.000000         1.000000   \n",
              "25%       494.000000           2.000000         1.000000   \n",
              "50%       931.000000           4.000000         2.000000   \n",
              "75%      1772.000000           5.000000         3.000000   \n",
              "max      3684.000000          15.000000         6.000000   \n",
              "\n",
              "       Frequency_of_Powercuts  Traffic_Density_Score  Air_Quality_Index  \\\n",
              "count            30493.000000           31599.000000       31599.000000   \n",
              "mean                 0.487194               6.362689         117.706130   \n",
              "std                  0.753501               1.195944          31.401668   \n",
              "min                  0.000000               3.170000          27.500000   \n",
              "25%                  0.000000               5.600000          95.000000   \n",
              "50%                  0.000000               6.470000         113.000000   \n",
              "75%                  1.000000               7.220000         140.000000   \n",
              "max                  3.000000               9.650000         207.500000   \n",
              "\n",
              "       Neighborhood_Review  \n",
              "count         31599.000000  \n",
              "mean              3.739679  \n",
              "std               0.783349  \n",
              "min               1.660000  \n",
              "25%               3.220000  \n",
              "50%               3.850000  \n",
              "75%               4.240000  \n",
              "max               5.000000  "
            ],
            "text/html": [
              "\n",
              "  <div id=\"df-2bdfc887-a6ad-4a8d-bedd-91a7bd6f2876\">\n",
              "    <div class=\"colab-df-container\">\n",
              "      <div>\n",
              "<style scoped>\n",
              "    .dataframe tbody tr th:only-of-type {\n",
              "        vertical-align: middle;\n",
              "    }\n",
              "\n",
              "    .dataframe tbody tr th {\n",
              "        vertical-align: top;\n",
              "    }\n",
              "\n",
              "    .dataframe thead th {\n",
              "        text-align: right;\n",
              "    }\n",
              "</style>\n",
              "<table border=\"1\" class=\"dataframe\">\n",
              "  <thead>\n",
              "    <tr style=\"text-align: right;\">\n",
              "      <th></th>\n",
              "      <th>Property_Area</th>\n",
              "      <th>Number_of_Windows</th>\n",
              "      <th>Number_of_Doors</th>\n",
              "      <th>Frequency_of_Powercuts</th>\n",
              "      <th>Traffic_Density_Score</th>\n",
              "      <th>Air_Quality_Index</th>\n",
              "      <th>Neighborhood_Review</th>\n",
              "    </tr>\n",
              "  </thead>\n",
              "  <tbody>\n",
              "    <tr>\n",
              "      <th>count</th>\n",
              "      <td>31599.000000</td>\n",
              "      <td>30238.000000</td>\n",
              "      <td>31599.000000</td>\n",
              "      <td>30493.000000</td>\n",
              "      <td>31599.000000</td>\n",
              "      <td>31599.000000</td>\n",
              "      <td>31599.000000</td>\n",
              "    </tr>\n",
              "    <tr>\n",
              "      <th>mean</th>\n",
              "      <td>1223.216811</td>\n",
              "      <td>3.926020</td>\n",
              "      <td>2.332099</td>\n",
              "      <td>0.487194</td>\n",
              "      <td>6.362689</td>\n",
              "      <td>117.706130</td>\n",
              "      <td>3.739679</td>\n",
              "    </tr>\n",
              "    <tr>\n",
              "      <th>std</th>\n",
              "      <td>925.508229</td>\n",
              "      <td>2.688989</td>\n",
              "      <td>1.179945</td>\n",
              "      <td>0.753501</td>\n",
              "      <td>1.195944</td>\n",
              "      <td>31.401668</td>\n",
              "      <td>0.783349</td>\n",
              "    </tr>\n",
              "    <tr>\n",
              "      <th>min</th>\n",
              "      <td>100.000000</td>\n",
              "      <td>0.000000</td>\n",
              "      <td>1.000000</td>\n",
              "      <td>0.000000</td>\n",
              "      <td>3.170000</td>\n",
              "      <td>27.500000</td>\n",
              "      <td>1.660000</td>\n",
              "    </tr>\n",
              "    <tr>\n",
              "      <th>25%</th>\n",
              "      <td>494.000000</td>\n",
              "      <td>2.000000</td>\n",
              "      <td>1.000000</td>\n",
              "      <td>0.000000</td>\n",
              "      <td>5.600000</td>\n",
              "      <td>95.000000</td>\n",
              "      <td>3.220000</td>\n",
              "    </tr>\n",
              "    <tr>\n",
              "      <th>50%</th>\n",
              "      <td>931.000000</td>\n",
              "      <td>4.000000</td>\n",
              "      <td>2.000000</td>\n",
              "      <td>0.000000</td>\n",
              "      <td>6.470000</td>\n",
              "      <td>113.000000</td>\n",
              "      <td>3.850000</td>\n",
              "    </tr>\n",
              "    <tr>\n",
              "      <th>75%</th>\n",
              "      <td>1772.000000</td>\n",
              "      <td>5.000000</td>\n",
              "      <td>3.000000</td>\n",
              "      <td>1.000000</td>\n",
              "      <td>7.220000</td>\n",
              "      <td>140.000000</td>\n",
              "      <td>4.240000</td>\n",
              "    </tr>\n",
              "    <tr>\n",
              "      <th>max</th>\n",
              "      <td>3684.000000</td>\n",
              "      <td>15.000000</td>\n",
              "      <td>6.000000</td>\n",
              "      <td>3.000000</td>\n",
              "      <td>9.650000</td>\n",
              "      <td>207.500000</td>\n",
              "      <td>5.000000</td>\n",
              "    </tr>\n",
              "  </tbody>\n",
              "</table>\n",
              "</div>\n",
              "      <button class=\"colab-df-convert\" onclick=\"convertToInteractive('df-2bdfc887-a6ad-4a8d-bedd-91a7bd6f2876')\"\n",
              "              title=\"Convert this dataframe to an interactive table.\"\n",
              "              style=\"display:none;\">\n",
              "        \n",
              "  <svg xmlns=\"http://www.w3.org/2000/svg\" height=\"24px\"viewBox=\"0 0 24 24\"\n",
              "       width=\"24px\">\n",
              "    <path d=\"M0 0h24v24H0V0z\" fill=\"none\"/>\n",
              "    <path d=\"M18.56 5.44l.94 2.06.94-2.06 2.06-.94-2.06-.94-.94-2.06-.94 2.06-2.06.94zm-11 1L8.5 8.5l.94-2.06 2.06-.94-2.06-.94L8.5 2.5l-.94 2.06-2.06.94zm10 10l.94 2.06.94-2.06 2.06-.94-2.06-.94-.94-2.06-.94 2.06-2.06.94z\"/><path d=\"M17.41 7.96l-1.37-1.37c-.4-.4-.92-.59-1.43-.59-.52 0-1.04.2-1.43.59L10.3 9.45l-7.72 7.72c-.78.78-.78 2.05 0 2.83L4 21.41c.39.39.9.59 1.41.59.51 0 1.02-.2 1.41-.59l7.78-7.78 2.81-2.81c.8-.78.8-2.07 0-2.86zM5.41 20L4 18.59l7.72-7.72 1.47 1.35L5.41 20z\"/>\n",
              "  </svg>\n",
              "      </button>\n",
              "      \n",
              "  <style>\n",
              "    .colab-df-container {\n",
              "      display:flex;\n",
              "      flex-wrap:wrap;\n",
              "      gap: 12px;\n",
              "    }\n",
              "\n",
              "    .colab-df-convert {\n",
              "      background-color: #E8F0FE;\n",
              "      border: none;\n",
              "      border-radius: 50%;\n",
              "      cursor: pointer;\n",
              "      display: none;\n",
              "      fill: #1967D2;\n",
              "      height: 32px;\n",
              "      padding: 0 0 0 0;\n",
              "      width: 32px;\n",
              "    }\n",
              "\n",
              "    .colab-df-convert:hover {\n",
              "      background-color: #E2EBFA;\n",
              "      box-shadow: 0px 1px 2px rgba(60, 64, 67, 0.3), 0px 1px 3px 1px rgba(60, 64, 67, 0.15);\n",
              "      fill: #174EA6;\n",
              "    }\n",
              "\n",
              "    [theme=dark] .colab-df-convert {\n",
              "      background-color: #3B4455;\n",
              "      fill: #D2E3FC;\n",
              "    }\n",
              "\n",
              "    [theme=dark] .colab-df-convert:hover {\n",
              "      background-color: #434B5C;\n",
              "      box-shadow: 0px 1px 3px 1px rgba(0, 0, 0, 0.15);\n",
              "      filter: drop-shadow(0px 1px 2px rgba(0, 0, 0, 0.3));\n",
              "      fill: #FFFFFF;\n",
              "    }\n",
              "  </style>\n",
              "\n",
              "      <script>\n",
              "        const buttonEl =\n",
              "          document.querySelector('#df-2bdfc887-a6ad-4a8d-bedd-91a7bd6f2876 button.colab-df-convert');\n",
              "        buttonEl.style.display =\n",
              "          google.colab.kernel.accessAllowed ? 'block' : 'none';\n",
              "\n",
              "        async function convertToInteractive(key) {\n",
              "          const element = document.querySelector('#df-2bdfc887-a6ad-4a8d-bedd-91a7bd6f2876');\n",
              "          const dataTable =\n",
              "            await google.colab.kernel.invokeFunction('convertToInteractive',\n",
              "                                                     [key], {});\n",
              "          if (!dataTable) return;\n",
              "\n",
              "          const docLinkHtml = 'Like what you see? Visit the ' +\n",
              "            '<a target=\"_blank\" href=https://colab.research.google.com/notebooks/data_table.ipynb>data table notebook</a>'\n",
              "            + ' to learn more about interactive tables.';\n",
              "          element.innerHTML = '';\n",
              "          dataTable['output_type'] = 'display_data';\n",
              "          await google.colab.output.renderOutput(dataTable, element);\n",
              "          const docLink = document.createElement('div');\n",
              "          docLink.innerHTML = docLinkHtml;\n",
              "          element.appendChild(docLink);\n",
              "        }\n",
              "      </script>\n",
              "    </div>\n",
              "  </div>\n",
              "  "
            ]
          },
          "metadata": {},
          "execution_count": 225
        }
      ]
    },
    {
      "cell_type": "code",
      "execution_count": null,
      "metadata": {
        "colab": {
          "base_uri": "https://localhost:8080/"
        },
        "id": "r1BKBQEKEUI4",
        "outputId": "03589614-eabb-4a7b-efe1-761d62d0cc38"
      },
      "outputs": [
        {
          "output_type": "execute_result",
          "data": {
            "text/plain": [
              "Property_ID                object\n",
              "Property_Type              object\n",
              "Property_Area             float64\n",
              "Number_of_Windows         float64\n",
              "Number_of_Doors             int64\n",
              "Furnishing                 object\n",
              "Frequency_of_Powercuts    float64\n",
              "Power_Backup               object\n",
              "Water_Supply               object\n",
              "Traffic_Density_Score     float64\n",
              "Crime_Rate                 object\n",
              "Dust_and_Noise             object\n",
              "Air_Quality_Index         float64\n",
              "Neighborhood_Review       float64\n",
              "Habitability_score        float64\n",
              "dtype: object"
            ]
          },
          "metadata": {},
          "execution_count": 226
        }
      ],
      "source": [
        "df.dtypes"
      ]
    },
    {
      "cell_type": "code",
      "execution_count": null,
      "metadata": {
        "id": "swXnAS3wDS_q"
      },
      "outputs": [],
      "source": [
        "# imputation Transformer\n",
        "trf1 = ColumnTransformer([\n",
        "    ('impute_number_of_windows', SimpleImputer(strategy='median'), [3]),\n",
        "    ('impute_furnished', SimpleImputer(strategy='median'), [5]),\n",
        "    ('impute_frequency_of_powercuts', SimpleImputer(strategy='most_frequent'), [6]),\n",
        "    ('impute_crime_rate',SimpleImputer(strategy='most_frequent'),[10]),\n",
        "    ('impute_dust_and_noise',SimpleImputer(strategy='most_frequent'),[11])\n",
        "],remainder='passthrough')"
      ]
    },
    {
      "cell_type": "code",
      "execution_count": null,
      "metadata": {
        "id": "6VWWsJvNIbg0"
      },
      "outputs": [],
      "source": [
        "# one Hot Encoding\n",
        "trf2 = ColumnTransformer([\n",
        "    ('OHE_property_type_furnishing_powerBackup_waterSupply_crimeRate_dustandnoise', OneHotEncoder(sparse=False, handle_unknown='ignore'),[0,4,6,7,9,10])\n",
        "], remainder='passthrough')"
      ]
    },
    {
      "cell_type": "code",
      "execution_count": null,
      "metadata": {
        "id": "cCBHhrMfLSId"
      },
      "outputs": [],
      "source": [
        "# scaling\n",
        "trf3 = ColumnTransformer([\n",
        "    ('scale', MinMaxScaler(), slice(0,19))\n",
        "])"
      ]
    },
    {
      "cell_type": "code",
      "execution_count": null,
      "metadata": {
        "id": "vz6huPA2FtsT"
      },
      "outputs": [],
      "source": [
        "# feature slection\n",
        "trf4 = SelectKBest(score_func=chi2,k=12)"
      ]
    },
    {
      "cell_type": "code",
      "execution_count": null,
      "metadata": {
        "id": "AfcoOkVfIoa4"
      },
      "outputs": [],
      "source": [
        "# train the model\n",
        "lasso = Lasso(normalize=True)"
      ]
    },
    {
      "cell_type": "markdown",
      "metadata": {
        "id": "fbi2LQDtJ-Ea"
      },
      "source": [
        "# Pipeline for lasso regression\n"
      ]
    },
    {
      "cell_type": "code",
      "execution_count": null,
      "metadata": {
        "id": "ielnURd9J9jn"
      },
      "outputs": [],
      "source": [
        "pipe = Pipeline([\n",
        "    ('trf1',trf1),\n",
        "    ('trf2',trf2),\n",
        "    ('trf3',trf3),\n",
        "    ('lasso',lasso)\n",
        "])\n",
        "def model_evalution(pipe,X_train,X_test,y_train,y_test):\n",
        "  model = pipe.fit(X_train , y_train)\n",
        "  prediction = model.predict(X_test)\n",
        " #metrics------------/\n",
        "  #mean Absoulute Error\n",
        "  MAE = mean_absolute_error(prediction,y_test)\n",
        "  # mean squared error\n",
        "  MSE = mean_squared_error(prediction,y_test)\n",
        "  # r2_Score\n",
        "  r2 = r2_score(prediction,y_test)\n",
        "  # Root mean sqauared error\n",
        "  RMSE = np.sqrt(MSE)\n",
        "  # Root Mean Squared Log Error \n",
        "  RMSLE = np.log(np.sqrt(MSE))\n",
        "\n",
        "  #print all the metrics\n",
        "  print(f\" MAE: {MAE} \")\n",
        "  print(f\" MSE: {MSE} \")\n",
        "  print(f\" r2_Score : {r2} \")\n",
        "  print('Root Mean Squared Error:')\n",
        "  print(RMSE)\n",
        "  print(\"Root Mean Squared Log Error :\")\n",
        "  print(RMSLE)\n",
        "\n",
        "\n"
      ]
    },
    {
      "cell_type": "code",
      "source": [
        "model_evalution(pipe,X_train,X_test,y_train,y_test)"
      ],
      "metadata": {
        "colab": {
          "base_uri": "https://localhost:8080/"
        },
        "id": "_58Rt6T-BGWh",
        "outputId": "1d859a11-b85d-4813-b22d-41449c0297b1"
      },
      "execution_count": null,
      "outputs": [
        {
          "output_type": "stream",
          "name": "stdout",
          "text": [
            " MAE: 8.397714066820738 \n",
            " MSE: 118.13116660428308 \n",
            " r2_Score : 0.0 \n",
            "Root Mean Squared Error:\n",
            "10.868816246688647\n",
            "Root Mean Squared Log Error :\n",
            "2.385897794254373\n"
          ]
        }
      ]
    },
    {
      "cell_type": "markdown",
      "source": [
        "# Linear Regression"
      ],
      "metadata": {
        "id": "fqSkYAkGeFfd"
      }
    },
    {
      "cell_type": "code",
      "source": [
        "lr = LinearRegression()"
      ],
      "metadata": {
        "id": "LgeRfYgUeJXE"
      },
      "execution_count": null,
      "outputs": []
    },
    {
      "cell_type": "code",
      "source": [
        "pipe_lr = Pipeline([\n",
        "    ('trf1',trf1),\n",
        "    ('trf2',trf2),\n",
        "    ('trf3',trf3),\n",
        "    ('Linear Regression',lr)\n",
        "])"
      ],
      "metadata": {
        "id": "zLpBvmXseM7z"
      },
      "execution_count": null,
      "outputs": []
    },
    {
      "cell_type": "code",
      "source": [
        "model_evalution(pipe_lr,X_train,X_test,y_train,y_test)"
      ],
      "metadata": {
        "colab": {
          "base_uri": "https://localhost:8080/"
        },
        "id": "5KGgY6fXeWw4",
        "outputId": "b7578748-c7d4-4059-83ac-e7b12985599e"
      },
      "execution_count": null,
      "outputs": [
        {
          "output_type": "stream",
          "name": "stdout",
          "text": [
            " MAE: 8.385928955696205 \n",
            " MSE: 117.3670651412184 \n",
            " r2_Score : -122.54554318600047 \n",
            "Root Mean Squared Error:\n",
            "10.833608131237645\n",
            "Root Mean Squared Log Error :\n",
            "2.3826531663062696\n"
          ]
        }
      ]
    },
    {
      "cell_type": "code",
      "source": [
        "model = pipe_lr.fit(X_train,y_train)\n",
        "y_pred = model.predict(X_test)"
      ],
      "metadata": {
        "id": "P9Ru3iCxebXE"
      },
      "execution_count": null,
      "outputs": []
    },
    {
      "cell_type": "markdown",
      "source": [
        "# Decision Tree"
      ],
      "metadata": {
        "id": "eHXO0-QjAjPP"
      }
    },
    {
      "cell_type": "code",
      "source": [
        "from sklearn.tree import DecisionTreeRegressor"
      ],
      "metadata": {
        "id": "g1HIoRr8Alix"
      },
      "execution_count": null,
      "outputs": []
    },
    {
      "cell_type": "code",
      "source": [
        "dt = DecisionTreeRegressor()"
      ],
      "metadata": {
        "id": "BDhMvzfHAscM"
      },
      "execution_count": null,
      "outputs": []
    },
    {
      "cell_type": "code",
      "source": [
        "pipe_dt = Pipeline([\n",
        "    ('trf1',trf1),\n",
        "    ('trf2',trf2),\n",
        "    ('trf3',trf3),\n",
        "    ('DecesionTreeRegressor',dt)\n",
        "])\n"
      ],
      "metadata": {
        "id": "9zSMcj_rAx6g"
      },
      "execution_count": null,
      "outputs": []
    },
    {
      "cell_type": "code",
      "source": [
        "model_evalution(pipe_dt,X_train,X_test,y_train , y_test)"
      ],
      "metadata": {
        "colab": {
          "base_uri": "https://localhost:8080/"
        },
        "id": "SW4h6yFIC9pl",
        "outputId": "26484dd5-611a-4a7a-a89d-7fdd3ab4a24e"
      },
      "execution_count": null,
      "outputs": [
        {
          "output_type": "stream",
          "name": "stdout",
          "text": [
            " MAE: 8.397197796419405 \n",
            " MSE: 117.62293579984768 \n",
            " r2_Score : -92.81208474485095 \n",
            "Root Mean Squared Error:\n",
            "10.845410817477026\n",
            "Root Mean Squared Log Error :\n",
            "2.383742024379914\n"
          ]
        }
      ]
    },
    {
      "cell_type": "markdown",
      "source": [
        "# Random Forest Regressor "
      ],
      "metadata": {
        "id": "ZyVF5d9XPSZs"
      }
    },
    {
      "cell_type": "code",
      "source": [
        "from sklearn.ensemble import RandomForestRegressor"
      ],
      "metadata": {
        "id": "nxVpFdTxPWsO"
      },
      "execution_count": null,
      "outputs": []
    },
    {
      "cell_type": "code",
      "source": [
        "RFR = RandomForestRegressor()"
      ],
      "metadata": {
        "id": "BX89b7GNxOb4"
      },
      "execution_count": null,
      "outputs": []
    },
    {
      "cell_type": "code",
      "source": [
        "pipe_rfr = Pipeline([\n",
        "    ('trf1',trf1),\n",
        "    ('trf2',trf2),\n",
        "    ('trf3',trf3),\n",
        "    ('RandomForestRegressor',RFR)\n",
        "])\n"
      ],
      "metadata": {
        "id": "09Mkc0NaxU7N"
      },
      "execution_count": null,
      "outputs": []
    },
    {
      "cell_type": "code",
      "source": [
        "model_evalution(pipe_rfr,X_train,X_test,y_train , y_test)"
      ],
      "metadata": {
        "colab": {
          "base_uri": "https://localhost:8080/"
        },
        "id": "NJrO4xzxxqoa",
        "outputId": "62529512-80c7-4bc3-f681-b53d1af98a91"
      },
      "execution_count": null,
      "outputs": [
        {
          "output_type": "stream",
          "name": "stdout",
          "text": [
            " MAE: 8.394446985524887 \n",
            " MSE: 117.55688849685771 \n",
            " r2_Score : -100.31160642408071 \n",
            "Root Mean Squared Error:\n",
            "10.842365447486896\n",
            "Root Mean Squared Log Error :\n",
            "2.383461186918946\n"
          ]
        }
      ]
    },
    {
      "cell_type": "markdown",
      "source": [
        "# Stochastic Gradient descendent"
      ],
      "metadata": {
        "id": "NY463OTxPCDm"
      }
    },
    {
      "cell_type": "code",
      "source": [
        "from sklearn.linear_model import SGDRegressor"
      ],
      "metadata": {
        "id": "Y2oUeomjPAMc"
      },
      "execution_count": null,
      "outputs": []
    },
    {
      "cell_type": "code",
      "source": [
        "sgd = SGDRegressor()"
      ],
      "metadata": {
        "id": "IZaU8WQkPRqq"
      },
      "execution_count": null,
      "outputs": []
    },
    {
      "cell_type": "code",
      "source": [
        "pipe_sgd = Pipeline([\n",
        "    ('trf1',trf1),\n",
        "    ('trf2',trf2),\n",
        "    ('trf3',trf3),\n",
        "    ('Stochastic Gradient Descedent',sgd)\n",
        "])"
      ],
      "metadata": {
        "id": "gLN1jki2PbPH"
      },
      "execution_count": null,
      "outputs": []
    },
    {
      "cell_type": "code",
      "source": [
        "model_evalution(pipe_sgd,X_train,X_test,y_train , y_test)"
      ],
      "metadata": {
        "colab": {
          "base_uri": "https://localhost:8080/"
        },
        "id": "sjYTscUtPiJk",
        "outputId": "c86a4263-03ee-45dd-d0cb-9cb1f773b1c3"
      },
      "execution_count": null,
      "outputs": [
        {
          "output_type": "stream",
          "name": "stdout",
          "text": [
            " MAE: 8.377444193878627 \n",
            " MSE: 117.39040269809807 \n",
            " r2_Score : -136.1409279172684 \n",
            "Root Mean Squared Error:\n",
            "10.834685168388516\n",
            "Root Mean Squared Log Error :\n",
            "2.3827525776569343\n"
          ]
        }
      ]
    },
    {
      "cell_type": "code",
      "source": [
        "model = pipe_sgd.fit(X_train,y_train)\n",
        "y_pred_sgd = model.predict(X_test)"
      ],
      "metadata": {
        "id": "JHE8zR3fPxcb"
      },
      "execution_count": null,
      "outputs": []
    },
    {
      "cell_type": "code",
      "source": [
        "plt.scatter(y_pred,y_pred_sgd)\n",
        "plt.grid()\n",
        "plt.xlabel('Actual y')\n",
        "plt.ylabel('Predicted y')\n",
        "plt.title('Scatter plot from Actual y to predicted y ')"
      ],
      "metadata": {
        "colab": {
          "base_uri": "https://localhost:8080/",
          "height": 312
        },
        "id": "3LZ4X10oQrkp",
        "outputId": "c537a05c-3e0e-4e50-ab6b-a68e46113493"
      },
      "execution_count": null,
      "outputs": [
        {
          "output_type": "execute_result",
          "data": {
            "text/plain": [
              "Text(0.5, 1.0, 'Scatter plot from Actual y to predicted y ')"
            ]
          },
          "metadata": {},
          "execution_count": 251
        },
        {
          "output_type": "display_data",
          "data": {
            "text/plain": [
              "<Figure size 432x288 with 1 Axes>"
            ],
            "image/png": "[encoded data removed]"
          },
          "metadata": {}
        }
      ]
    },
    {
      "cell_type": "markdown",
      "source": [
        "# KNN Regressor\n"
      ],
      "metadata": {
        "id": "ogS7BS92S70r"
      }
    },
    {
      "cell_type": "code",
      "source": [
        "from sklearn.neighbors import KNeighborsRegressor"
      ],
      "metadata": {
        "id": "LaK7BWdhS6_Z"
      },
      "execution_count": null,
      "outputs": []
    },
    {
      "cell_type": "code",
      "source": [
        "knn = KNeighborsRegressor()"
      ],
      "metadata": {
        "id": "tpZU1g2OTD6b"
      },
      "execution_count": null,
      "outputs": []
    },
    {
      "cell_type": "code",
      "source": [
        "pipe_knn = Pipeline([\n",
        "    ('trf1',trf1),\n",
        "    ('trf2',trf2),\n",
        "    ('trf3',trf3),\n",
        "    ('Kn Regressor',knn)\n",
        "])"
      ],
      "metadata": {
        "id": "k-eOsOliTIZ9"
      },
      "execution_count": null,
      "outputs": []
    },
    {
      "cell_type": "code",
      "source": [
        "model_evalution(pipe_knn,X_train,X_test,y_train , y_test)"
      ],
      "metadata": {
        "colab": {
          "base_uri": "https://localhost:8080/"
        },
        "id": "csXndcEPTkVH",
        "outputId": "248aec6b-4556-4245-a25e-4c2681701375"
      },
      "execution_count": null,
      "outputs": [
        {
          "output_type": "stream",
          "name": "stdout",
          "text": [
            " MAE: 10.3247817721519 \n",
            " MSE: 168.62365106936716 \n",
            " r2_Score : -2.110980950962693 \n",
            "Root Mean Squared Error:\n",
            "12.985516973511958\n",
            "Root Mean Squared Log Error :\n",
            "2.563834657453646\n"
          ]
        }
      ]
    },
    {
      "cell_type": "markdown",
      "source": [
        "# Support Vector Machine"
      ],
      "metadata": {
        "id": "Ltz-7c38UVQS"
      }
    },
    {
      "cell_type": "code",
      "source": [
        "from sklearn.svm import SVR"
      ],
      "metadata": {
        "id": "J6ykv1QZUXso"
      },
      "execution_count": null,
      "outputs": []
    },
    {
      "cell_type": "code",
      "source": [
        "svr = SVR()"
      ],
      "metadata": {
        "id": "TPKQ9qnjUfSO"
      },
      "execution_count": null,
      "outputs": []
    },
    {
      "cell_type": "code",
      "source": [
        "pipe_svr = Pipeline([\n",
        "    ('trf1',trf1),\n",
        "    ('trf2',trf2),\n",
        "    ('trf3',trf3),\n",
        "    ('Support Vector Machine Regressor',svr)\n",
        "])"
      ],
      "metadata": {
        "id": "7t0ziIEcUkDH"
      },
      "execution_count": null,
      "outputs": []
    },
    {
      "cell_type": "code",
      "source": [
        "model_evalution(pipe_svr,X_train,X_test,y_train , y_test)"
      ],
      "metadata": {
        "colab": {
          "base_uri": "https://localhost:8080/"
        },
        "id": "Zi7BR9VVVAOz",
        "outputId": "6af72905-a4b7-49df-ee0c-43889d1bc6b4"
      },
      "execution_count": null,
      "outputs": [
        {
          "output_type": "stream",
          "name": "stdout",
          "text": [
            " MAE: 8.332945551748757 \n",
            " MSE: 118.33242093832904 \n",
            " r2_Score : -243.51494676244138 \n",
            "Root Mean Squared Error:\n",
            "10.878070644113736\n",
            "Root Mean Squared Log Error :\n",
            "2.3867488951986315\n"
          ]
        }
      ]
    },
    {
      "cell_type": "markdown",
      "source": [
        "# Extra Tree Regressor"
      ],
      "metadata": {
        "id": "6N8e4R9AXxv3"
      }
    },
    {
      "cell_type": "code",
      "source": [
        "from sklearn.ensemble import ExtraTreesRegressor"
      ],
      "metadata": {
        "id": "yYxtpxe6X2n5"
      },
      "execution_count": null,
      "outputs": []
    },
    {
      "cell_type": "code",
      "source": [
        "etr =  ExtraTreesRegressor()"
      ],
      "metadata": {
        "id": "gnDh67_nX9ZC"
      },
      "execution_count": null,
      "outputs": []
    },
    {
      "cell_type": "code",
      "source": [
        "pipe_etr = Pipeline([\n",
        "    ('trf1',trf1),\n",
        "    ('trf2',trf2),\n",
        "    ('trf3',trf3),\n",
        "    ('Extra Tree  Regressor',etr)\n",
        "])"
      ],
      "metadata": {
        "id": "a3QZDWx1YSNe"
      },
      "execution_count": null,
      "outputs": []
    },
    {
      "cell_type": "code",
      "source": [
        "model_evalution(pipe_etr,X_train,X_test,y_train , y_test)"
      ],
      "metadata": {
        "colab": {
          "base_uri": "https://localhost:8080/"
        },
        "id": "cPbbqpyCYdfw",
        "outputId": "052fdd16-8eb8-41b0-a1ce-f2ebadf80197"
      },
      "execution_count": null,
      "outputs": [
        {
          "output_type": "stream",
          "name": "stdout",
          "text": [
            " MAE: 8.397197796419412 \n",
            " MSE: 117.6229357998477 \n",
            " r2_Score : -92.81208474485004 \n",
            "Root Mean Squared Error:\n",
            "10.845410817477026\n",
            "Root Mean Squared Log Error :\n",
            "2.383742024379914\n"
          ]
        }
      ]
    },
    {
      "cell_type": "markdown",
      "source": [
        "# XGB Boost"
      ],
      "metadata": {
        "id": "4UERPdE2Y4fQ"
      }
    },
    {
      "cell_type": "code",
      "source": [
        "from xgboost import XGBRegressor"
      ],
      "metadata": {
        "id": "ulixIkj5Y7QP"
      },
      "execution_count": null,
      "outputs": []
    },
    {
      "cell_type": "code",
      "source": [
        "xgb_r = XGBRegressor()"
      ],
      "metadata": {
        "id": "kqXcHbDhacZm"
      },
      "execution_count": null,
      "outputs": []
    },
    {
      "cell_type": "code",
      "source": [
        "pipe_xgb_r = Pipeline([\n",
        "    ('trf1',trf1),\n",
        "    ('trf2',trf2),\n",
        "    ('trf3',trf3),\n",
        "    (' XGBRegressor',xgb_r)\n",
        "])"
      ],
      "metadata": {
        "id": "l6_OnPcDajE-"
      },
      "execution_count": null,
      "outputs": []
    },
    {
      "cell_type": "code",
      "source": [
        "model_evalution(pipe_etr,X_train,X_test,y_train , y_test)"
      ],
      "metadata": {
        "colab": {
          "base_uri": "https://localhost:8080/"
        },
        "id": "OpCsjyGFasxe",
        "outputId": "d39b81eb-e416-4f60-c90b-9ffc02b7a87a"
      },
      "execution_count": null,
      "outputs": [
        {
          "output_type": "stream",
          "name": "stdout",
          "text": [
            " MAE: 8.397197796419412 \n",
            " MSE: 117.6229357998477 \n",
            " r2_Score : -92.8120847448494 \n",
            "Root Mean Squared Error:\n",
            "10.845410817477026\n",
            "Root Mean Squared Log Error :\n",
            "2.383742024379914\n"
          ]
        }
      ]
    },
    {
      "cell_type": "markdown",
      "source": [
        "# ADABoost"
      ],
      "metadata": {
        "id": "olfiIpRffRWx"
      }
    },
    {
      "cell_type": "code",
      "source": [
        "from sklearn.ensemble import AdaBoostRegressor"
      ],
      "metadata": {
        "id": "jBz4CoxuiDys"
      },
      "execution_count": null,
      "outputs": []
    },
    {
      "cell_type": "code",
      "source": [
        "ada = AdaBoostRegressor(loss='square')"
      ],
      "metadata": {
        "id": "F5YOtpDDiakn"
      },
      "execution_count": null,
      "outputs": []
    },
    {
      "cell_type": "code",
      "source": [
        "pipe_ada = Pipeline([\n",
        "    ('trf1',trf1),\n",
        "    ('trf2',trf2),\n",
        "    ('trf3',trf3),\n",
        "    (' AdaBoostRegressor',ada)\n",
        "])"
      ],
      "metadata": {
        "id": "LwOs6skyixDH"
      },
      "execution_count": null,
      "outputs": []
    },
    {
      "cell_type": "code",
      "source": [
        "model_evalution(pipe_ada,X_train,X_test,y_train , y_test)"
      ],
      "metadata": {
        "colab": {
          "base_uri": "https://localhost:8080/"
        },
        "id": "UAXHlM9Qi4v7",
        "outputId": "6012969d-3460-4e78-dcb3-bfef6ad70ce6"
      },
      "execution_count": null,
      "outputs": [
        {
          "output_type": "stream",
          "name": "stdout",
          "text": [
            " MAE: 9.284500680761209 \n",
            " MSE: 130.226606406543 \n",
            " r2_Score : -288.29191324161394 \n",
            "Root Mean Squared Error:\n",
            "11.411687272552776\n",
            "Root Mean Squared Log Error :\n",
            "2.434638029589231\n"
          ]
        }
      ]
    },
    {
      "cell_type": "markdown",
      "source": [
        "# Vooting Regressor"
      ],
      "metadata": {
        "id": "HuE41vUbofoR"
      }
    },
    {
      "cell_type": "code",
      "source": [
        "from sklearn.ensemble import VotingRegressor\n",
        "from sklearn.ensemble import GradientBoostingRegressor"
      ],
      "metadata": {
        "id": "VDsDETczoiR2"
      },
      "execution_count": null,
      "outputs": []
    },
    {
      "cell_type": "code",
      "source": [
        "\n",
        "rf = RandomForestRegressor(n_estimators=350,random_state=3,max_features=0.75,max_depth=15)\n",
        "gbdt = GradientBoostingRegressor(n_estimators=100,max_features=0.5)\n",
        "xgb = XGBRegressor(n_estimators=25,learning_rate=0.3,max_depth=5)\n",
        "et = ExtraTreesRegressor(n_estimators=100,random_state=3,max_features=0.75,max_depth=10)\n",
        "\n",
        "vt = VotingRegressor([('rf', rf), ('gbdt', gbdt), ('xgb',xgb), ('et',et)],weights=[5,1,1,1])"
      ],
      "metadata": {
        "id": "IJlmHe15orGK"
      },
      "execution_count": null,
      "outputs": []
    },
    {
      "cell_type": "code",
      "source": [
        "pipe_vt = Pipeline([\n",
        "    ('trf1',trf1),\n",
        "    ('trf2',trf2),\n",
        "    ('trf3',trf3),\n",
        "    (' Vooting Regressor',vt)\n",
        "])"
      ],
      "metadata": {
        "id": "72ZvJmefoy0O"
      },
      "execution_count": null,
      "outputs": []
    },
    {
      "cell_type": "code",
      "source": [
        "model_evalution(pipe_vt,X_train,X_test,y_train , y_test)"
      ],
      "metadata": {
        "colab": {
          "base_uri": "https://localhost:8080/"
        },
        "id": "PUmcCee3pDu3",
        "outputId": "00c74a49-68ce-45fc-d674-a51b9d585eb5"
      },
      "execution_count": null,
      "outputs": [
        {
          "output_type": "stream",
          "name": "stdout",
          "text": [
            "[21:06:19] WARNING: /workspace/src/objective/regression_obj.cu:152: reg:linear is now deprecated in favor of reg:squarederror.\n",
            " MAE: 8.393236911743658 \n",
            " MSE: 117.53894710649894 \n",
            " r2_Score : -102.50790913980056 \n",
            "Root Mean Squared Error:\n",
            "10.841538041555678\n",
            "Root Mean Squared Log Error :\n",
            "2.383384871699038\n"
          ]
        }
      ]
    },
    {
      "cell_type": "markdown",
      "source": [
        "# Gradient Boosting"
      ],
      "metadata": {
        "id": "Zgy0GSNipI_h"
      }
    },
    {
      "cell_type": "code",
      "source": [
        "gb = GradientBoostingRegressor()"
      ],
      "metadata": {
        "id": "suwca6KupbLW"
      },
      "execution_count": null,
      "outputs": []
    },
    {
      "cell_type": "code",
      "source": [
        "pipe_gb = Pipeline([\n",
        "    ('trf1',trf1),\n",
        "    ('trf2',trf2),\n",
        "    ('trf3',trf3),\n",
        "    (' Gradient Boosting Regressor',gb)\n",
        "])"
      ],
      "metadata": {
        "id": "18bovUJ_pjyU"
      },
      "execution_count": null,
      "outputs": []
    },
    {
      "cell_type": "code",
      "source": [
        "model_evalution(pipe_gb,X_train,X_test,y_train , y_test)"
      ],
      "metadata": {
        "colab": {
          "base_uri": "https://localhost:8080/"
        },
        "id": "jH39Gfl7prdc",
        "outputId": "235b657e-064a-45d6-e8a8-8e0ae97f80ff"
      },
      "execution_count": null,
      "outputs": [
        {
          "output_type": "stream",
          "name": "stdout",
          "text": [
            " MAE: 8.390553179237179 \n",
            " MSE: 117.4922149268237 \n",
            " r2_Score : -108.2001857639234 \n",
            "Root Mean Squared Error:\n",
            "10.839382589743002\n",
            "Root Mean Squared Log Error :\n",
            "2.383186037723633\n"
          ]
        }
      ]
    }
  ],
  "metadata": {
    "colab": {
      "name": "hackthon.ipynb",
      "provenance": [],
      "collapsed_sections": []
    },
    "kernelspec": {
      "display_name": "Python 3",
      "name": "python3"
    },
    "language_info": {
      "name": "python"
    }
  },
  "nbformat": 4,
  "nbformat_minor": 0
}